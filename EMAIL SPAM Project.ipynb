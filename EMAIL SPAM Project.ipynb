{
 "cells": [
  {
   "cell_type": "markdown",
   "id": "d7deab4c",
   "metadata": {},
   "source": [
    "## Problem Statement\n",
    "\n",
    "### Context\n",
    "The SMS Spam Collection is a set of SMS tagged messages that have been collected for SMS Spam research. It contains one set of SMS messages in English of 5,574 messages, tagged according being ham (legitimate) or spam.\n",
    "\n",
    "### -Content\n",
    "What is a Spam Filtering?\n",
    "Spam Detector is used to detect unwanted, malicious and virus infected texts and helps to separate them from the nonspam texts. It uses a binary type of classification containing the labels such as ‘ham’ (nonspam) and spam. Application of this can be seen in Google Mail (GMAIL) where it segregates the spam emails in order to prevent them from getting into the user’s inbox.\n",
    "\n",
    "The files contain one message per line. Each line is composed by two columns: v1 contains the label (ham or spam) and v2 contains the raw text.\n",
    "\n",
    "This corpus has been collected from free or free for research sources at the Internet:\n",
    "-  A collection of 5573 rows SMS spam messages was manually extracted from the Grumbletext Web site. This is a UK forum in which cell phone users make public claims about SMS spam messages, most of them without reporting the very spam message received. The identification of the text of spam messages in the claims is a very hard and time-consuming task, and it involved carefully scanning hundreds of web pages. \n",
    "-  A subset of 3,375 SMS randomly chosen ham messages of the NUS SMS Corpus (NSC), which is a dataset of about 10,000 legitimate messages collected for research at the Department of Computer Science at the National University of Singapore. The messages largely originate from Singaporeans and mostly from students attending the University. These messages were collected from volunteers who were made aware that their contributions were going to be made publicly available. \n",
    "\n",
    "\n",
    "Below are some of the most popular machine learning methods:\n",
    "- a)Naïve Bayes classifier: It is a supervised machine learning algorithm where words probabilities play the main rule here. If some words occur often in spam but not in ham, then this incoming e-mail is probably spam. Naïve bayes classifier technique has become a very popular method in mail filtering software. Bayesian filter should be trained to work effectively. Every word has certain probability of occurring in spam or ham email in its database. If the total of words probabilities exceeds a certain limit, the filter will mark the e-mail to either category.\n",
    "- b)Artificial Neural Networks classifier: An artificial neural network (ANN), also called simply a \"Neural Network\" (NN), is a computational model based on biological neural networks. It consists of an interconnected collection of artificial neurons. An artificial neural network is an adaptive system that changes its structure based on information that flows through the artificial network during a learning phase.\n",
    "\n",
    "- -Outline\n",
    "The main goal of these two parts of article is to show how you could design a spam filtering system from scratch.\n",
    "Outlines of this article are summarized as below-.\n",
    "Some Useful Links-\n",
    "-https://www.javatpoint.com/nlp\n",
    "-https://www.educative.io/answers/preprocessing-steps-in-natural-language-processing-nlp\n",
    "-https://www.youtube.com/watch?v=5ctbvkAMQO4\n",
    "-https://www.youtube.com/watch?v=X2vAabgKiuM\n",
    "\n"
   ]
  },
  {
   "cell_type": "code",
   "execution_count": 5,
   "id": "2357c875",
   "metadata": {},
   "outputs": [],
   "source": [
    "import pandas as pd\n",
    "import numpy as np\n",
    "import matplotlib.pyplot as plt\n",
    "import seaborn as sns\n",
    "%matplotlib inline\n",
    "import warnings\n",
    "warnings.filterwarnings('ignore')"
   ]
  },
  {
   "cell_type": "markdown",
   "id": "fe724afe",
   "metadata": {},
   "source": [
    "### Loading the Dataset"
   ]
  },
  {
   "cell_type": "code",
   "execution_count": 6,
   "id": "b528ce78",
   "metadata": {},
   "outputs": [],
   "source": [
    "data = pd.read_csv(r\"C:\\Users\\Teja\\Downloads\\Spam-Project\\spam.csv\",encoding=\"ISO-8859-1\" )"
   ]
  },
  {
   "cell_type": "code",
   "execution_count": 7,
   "id": "769523c3",
   "metadata": {},
   "outputs": [
    {
     "data": {
      "text/html": [
       "<div>\n",
       "<style scoped>\n",
       "    .dataframe tbody tr th:only-of-type {\n",
       "        vertical-align: middle;\n",
       "    }\n",
       "\n",
       "    .dataframe tbody tr th {\n",
       "        vertical-align: top;\n",
       "    }\n",
       "\n",
       "    .dataframe thead th {\n",
       "        text-align: right;\n",
       "    }\n",
       "</style>\n",
       "<table border=\"1\" class=\"dataframe\">\n",
       "  <thead>\n",
       "    <tr style=\"text-align: right;\">\n",
       "      <th></th>\n",
       "      <th>v1</th>\n",
       "      <th>v2</th>\n",
       "      <th>Unnamed: 2</th>\n",
       "      <th>Unnamed: 3</th>\n",
       "      <th>Unnamed: 4</th>\n",
       "    </tr>\n",
       "  </thead>\n",
       "  <tbody>\n",
       "    <tr>\n",
       "      <th>0</th>\n",
       "      <td>ham</td>\n",
       "      <td>Go until jurong point, crazy.. Available only ...</td>\n",
       "      <td>NaN</td>\n",
       "      <td>NaN</td>\n",
       "      <td>NaN</td>\n",
       "    </tr>\n",
       "    <tr>\n",
       "      <th>1</th>\n",
       "      <td>ham</td>\n",
       "      <td>Ok lar... Joking wif u oni...</td>\n",
       "      <td>NaN</td>\n",
       "      <td>NaN</td>\n",
       "      <td>NaN</td>\n",
       "    </tr>\n",
       "    <tr>\n",
       "      <th>2</th>\n",
       "      <td>spam</td>\n",
       "      <td>Free entry in 2 a wkly comp to win FA Cup fina...</td>\n",
       "      <td>NaN</td>\n",
       "      <td>NaN</td>\n",
       "      <td>NaN</td>\n",
       "    </tr>\n",
       "    <tr>\n",
       "      <th>3</th>\n",
       "      <td>ham</td>\n",
       "      <td>U dun say so early hor... U c already then say...</td>\n",
       "      <td>NaN</td>\n",
       "      <td>NaN</td>\n",
       "      <td>NaN</td>\n",
       "    </tr>\n",
       "    <tr>\n",
       "      <th>4</th>\n",
       "      <td>ham</td>\n",
       "      <td>Nah I don't think he goes to usf, he lives aro...</td>\n",
       "      <td>NaN</td>\n",
       "      <td>NaN</td>\n",
       "      <td>NaN</td>\n",
       "    </tr>\n",
       "    <tr>\n",
       "      <th>...</th>\n",
       "      <td>...</td>\n",
       "      <td>...</td>\n",
       "      <td>...</td>\n",
       "      <td>...</td>\n",
       "      <td>...</td>\n",
       "    </tr>\n",
       "    <tr>\n",
       "      <th>5567</th>\n",
       "      <td>spam</td>\n",
       "      <td>This is the 2nd time we have tried 2 contact u...</td>\n",
       "      <td>NaN</td>\n",
       "      <td>NaN</td>\n",
       "      <td>NaN</td>\n",
       "    </tr>\n",
       "    <tr>\n",
       "      <th>5568</th>\n",
       "      <td>ham</td>\n",
       "      <td>Will Ì_ b going to esplanade fr home?</td>\n",
       "      <td>NaN</td>\n",
       "      <td>NaN</td>\n",
       "      <td>NaN</td>\n",
       "    </tr>\n",
       "    <tr>\n",
       "      <th>5569</th>\n",
       "      <td>ham</td>\n",
       "      <td>Pity, * was in mood for that. So...any other s...</td>\n",
       "      <td>NaN</td>\n",
       "      <td>NaN</td>\n",
       "      <td>NaN</td>\n",
       "    </tr>\n",
       "    <tr>\n",
       "      <th>5570</th>\n",
       "      <td>ham</td>\n",
       "      <td>The guy did some bitching but I acted like i'd...</td>\n",
       "      <td>NaN</td>\n",
       "      <td>NaN</td>\n",
       "      <td>NaN</td>\n",
       "    </tr>\n",
       "    <tr>\n",
       "      <th>5571</th>\n",
       "      <td>ham</td>\n",
       "      <td>Rofl. Its true to its name</td>\n",
       "      <td>NaN</td>\n",
       "      <td>NaN</td>\n",
       "      <td>NaN</td>\n",
       "    </tr>\n",
       "  </tbody>\n",
       "</table>\n",
       "<p>5572 rows × 5 columns</p>\n",
       "</div>"
      ],
      "text/plain": [
       "        v1                                                 v2 Unnamed: 2  \\\n",
       "0      ham  Go until jurong point, crazy.. Available only ...        NaN   \n",
       "1      ham                      Ok lar... Joking wif u oni...        NaN   \n",
       "2     spam  Free entry in 2 a wkly comp to win FA Cup fina...        NaN   \n",
       "3      ham  U dun say so early hor... U c already then say...        NaN   \n",
       "4      ham  Nah I don't think he goes to usf, he lives aro...        NaN   \n",
       "...    ...                                                ...        ...   \n",
       "5567  spam  This is the 2nd time we have tried 2 contact u...        NaN   \n",
       "5568   ham              Will Ì_ b going to esplanade fr home?        NaN   \n",
       "5569   ham  Pity, * was in mood for that. So...any other s...        NaN   \n",
       "5570   ham  The guy did some bitching but I acted like i'd...        NaN   \n",
       "5571   ham                         Rofl. Its true to its name        NaN   \n",
       "\n",
       "     Unnamed: 3 Unnamed: 4  \n",
       "0           NaN        NaN  \n",
       "1           NaN        NaN  \n",
       "2           NaN        NaN  \n",
       "3           NaN        NaN  \n",
       "4           NaN        NaN  \n",
       "...         ...        ...  \n",
       "5567        NaN        NaN  \n",
       "5568        NaN        NaN  \n",
       "5569        NaN        NaN  \n",
       "5570        NaN        NaN  \n",
       "5571        NaN        NaN  \n",
       "\n",
       "[5572 rows x 5 columns]"
      ]
     },
     "execution_count": 7,
     "metadata": {},
     "output_type": "execute_result"
    }
   ],
   "source": [
    "data"
   ]
  },
  {
   "cell_type": "code",
   "execution_count": 8,
   "id": "f620c5bc",
   "metadata": {},
   "outputs": [
    {
     "data": {
      "text/plain": [
       "(5572, 5)"
      ]
     },
     "execution_count": 8,
     "metadata": {},
     "output_type": "execute_result"
    }
   ],
   "source": [
    "data.shape"
   ]
  },
  {
   "cell_type": "markdown",
   "id": "e5fee939",
   "metadata": {},
   "source": [
    "### Getting general information of the data"
   ]
  },
  {
   "cell_type": "code",
   "execution_count": 9,
   "id": "6ddb48b9",
   "metadata": {},
   "outputs": [
    {
     "name": "stdout",
     "output_type": "stream",
     "text": [
      "<class 'pandas.core.frame.DataFrame'>\n",
      "RangeIndex: 5572 entries, 0 to 5571\n",
      "Data columns (total 5 columns):\n",
      " #   Column      Non-Null Count  Dtype \n",
      "---  ------      --------------  ----- \n",
      " 0   v1          5572 non-null   object\n",
      " 1   v2          5572 non-null   object\n",
      " 2   Unnamed: 2  50 non-null     object\n",
      " 3   Unnamed: 3  12 non-null     object\n",
      " 4   Unnamed: 4  6 non-null      object\n",
      "dtypes: object(5)\n",
      "memory usage: 217.8+ KB\n"
     ]
    }
   ],
   "source": [
    "data.info()"
   ]
  },
  {
   "cell_type": "markdown",
   "id": "2815e245",
   "metadata": {},
   "source": [
    "### Finding the null values in the columns of dataset"
   ]
  },
  {
   "cell_type": "code",
   "execution_count": 10,
   "id": "9f98f885",
   "metadata": {},
   "outputs": [
    {
     "data": {
      "text/plain": [
       "v1               0\n",
       "v2               0\n",
       "Unnamed: 2    5522\n",
       "Unnamed: 3    5560\n",
       "Unnamed: 4    5566\n",
       "dtype: int64"
      ]
     },
     "execution_count": 10,
     "metadata": {},
     "output_type": "execute_result"
    }
   ],
   "source": [
    "data.isnull().sum()"
   ]
  },
  {
   "cell_type": "markdown",
   "id": "61f79f38",
   "metadata": {},
   "source": [
    "### Dropping the 'Unwanted' column since it is not required"
   ]
  },
  {
   "cell_type": "code",
   "execution_count": 11,
   "id": "125413ff",
   "metadata": {},
   "outputs": [],
   "source": [
    "data.drop(columns=['Unnamed: 2','Unnamed: 3','Unnamed: 4'],inplace=True)"
   ]
  },
  {
   "cell_type": "code",
   "execution_count": 12,
   "id": "17f3efb6",
   "metadata": {},
   "outputs": [
    {
     "data": {
      "text/html": [
       "<div>\n",
       "<style scoped>\n",
       "    .dataframe tbody tr th:only-of-type {\n",
       "        vertical-align: middle;\n",
       "    }\n",
       "\n",
       "    .dataframe tbody tr th {\n",
       "        vertical-align: top;\n",
       "    }\n",
       "\n",
       "    .dataframe thead th {\n",
       "        text-align: right;\n",
       "    }\n",
       "</style>\n",
       "<table border=\"1\" class=\"dataframe\">\n",
       "  <thead>\n",
       "    <tr style=\"text-align: right;\">\n",
       "      <th></th>\n",
       "      <th>v1</th>\n",
       "      <th>v2</th>\n",
       "    </tr>\n",
       "  </thead>\n",
       "  <tbody>\n",
       "    <tr>\n",
       "      <th>0</th>\n",
       "      <td>ham</td>\n",
       "      <td>Go until jurong point, crazy.. Available only ...</td>\n",
       "    </tr>\n",
       "    <tr>\n",
       "      <th>1</th>\n",
       "      <td>ham</td>\n",
       "      <td>Ok lar... Joking wif u oni...</td>\n",
       "    </tr>\n",
       "    <tr>\n",
       "      <th>2</th>\n",
       "      <td>spam</td>\n",
       "      <td>Free entry in 2 a wkly comp to win FA Cup fina...</td>\n",
       "    </tr>\n",
       "    <tr>\n",
       "      <th>3</th>\n",
       "      <td>ham</td>\n",
       "      <td>U dun say so early hor... U c already then say...</td>\n",
       "    </tr>\n",
       "    <tr>\n",
       "      <th>4</th>\n",
       "      <td>ham</td>\n",
       "      <td>Nah I don't think he goes to usf, he lives aro...</td>\n",
       "    </tr>\n",
       "    <tr>\n",
       "      <th>...</th>\n",
       "      <td>...</td>\n",
       "      <td>...</td>\n",
       "    </tr>\n",
       "    <tr>\n",
       "      <th>5567</th>\n",
       "      <td>spam</td>\n",
       "      <td>This is the 2nd time we have tried 2 contact u...</td>\n",
       "    </tr>\n",
       "    <tr>\n",
       "      <th>5568</th>\n",
       "      <td>ham</td>\n",
       "      <td>Will Ì_ b going to esplanade fr home?</td>\n",
       "    </tr>\n",
       "    <tr>\n",
       "      <th>5569</th>\n",
       "      <td>ham</td>\n",
       "      <td>Pity, * was in mood for that. So...any other s...</td>\n",
       "    </tr>\n",
       "    <tr>\n",
       "      <th>5570</th>\n",
       "      <td>ham</td>\n",
       "      <td>The guy did some bitching but I acted like i'd...</td>\n",
       "    </tr>\n",
       "    <tr>\n",
       "      <th>5571</th>\n",
       "      <td>ham</td>\n",
       "      <td>Rofl. Its true to its name</td>\n",
       "    </tr>\n",
       "  </tbody>\n",
       "</table>\n",
       "<p>5572 rows × 2 columns</p>\n",
       "</div>"
      ],
      "text/plain": [
       "        v1                                                 v2\n",
       "0      ham  Go until jurong point, crazy.. Available only ...\n",
       "1      ham                      Ok lar... Joking wif u oni...\n",
       "2     spam  Free entry in 2 a wkly comp to win FA Cup fina...\n",
       "3      ham  U dun say so early hor... U c already then say...\n",
       "4      ham  Nah I don't think he goes to usf, he lives aro...\n",
       "...    ...                                                ...\n",
       "5567  spam  This is the 2nd time we have tried 2 contact u...\n",
       "5568   ham              Will Ì_ b going to esplanade fr home?\n",
       "5569   ham  Pity, * was in mood for that. So...any other s...\n",
       "5570   ham  The guy did some bitching but I acted like i'd...\n",
       "5571   ham                         Rofl. Its true to its name\n",
       "\n",
       "[5572 rows x 2 columns]"
      ]
     },
     "execution_count": 12,
     "metadata": {},
     "output_type": "execute_result"
    }
   ],
   "source": [
    "data"
   ]
  },
  {
   "cell_type": "markdown",
   "id": "208a551a",
   "metadata": {},
   "source": [
    "### Checking for blank spaces, random characters in each column"
   ]
  },
  {
   "cell_type": "code",
   "execution_count": 13,
   "id": "e7176c47",
   "metadata": {},
   "outputs": [
    {
     "name": "stdout",
     "output_type": "stream",
     "text": [
      "  in v1 =  0\n",
      "? in v1 =  0\n",
      "- in v1 =  0\n",
      " ? in v1 =  0\n",
      " - in v1 =  0\n",
      "?  in v1 =  0\n",
      "-  in v1 =  0\n",
      " ?  in v1 =  0\n",
      " -  in v1 =  0\n",
      "NA in v1 =  0\n",
      "N/A in v1 =  0\n",
      " NA in v1 =  0\n",
      " N/A in v1 =  0\n",
      "  in v2 =  0\n",
      "? in v2 =  0\n",
      "- in v2 =  0\n",
      " ? in v2 =  0\n",
      " - in v2 =  0\n",
      "?  in v2 =  0\n",
      "-  in v2 =  0\n",
      " ?  in v2 =  0\n",
      " -  in v2 =  0\n",
      "NA in v2 =  0\n",
      "N/A in v2 =  0\n",
      " NA in v2 =  0\n",
      " N/A in v2 =  0\n"
     ]
    }
   ],
   "source": [
    "search =[\" \",\"?\",\"-\",\" ?\",\" -\",\"? \",\"- \",\" ? \",\" - \",\"NA\",\"N/A\",\" NA\",\" N/A\"]\n",
    "for c in data:\n",
    "    for s in search:\n",
    "        print(f\"{s} in {c} = \",end= \" \")\n",
    "        print((data[c] == s).sum())\n"
   ]
  },
  {
   "cell_type": "markdown",
   "id": "0ff575ef",
   "metadata": {},
   "source": [
    "- We can see,there are no blank spaces, random characters in the columns."
   ]
  },
  {
   "cell_type": "markdown",
   "id": "cbfae9e4",
   "metadata": {},
   "source": [
    "### Dropping duplicate observations"
   ]
  },
  {
   "cell_type": "code",
   "execution_count": 14,
   "id": "9a97c4cb",
   "metadata": {},
   "outputs": [],
   "source": [
    "data.drop_duplicates(inplace = True) "
   ]
  },
  {
   "cell_type": "code",
   "execution_count": 15,
   "id": "f144c5fd",
   "metadata": {},
   "outputs": [
    {
     "data": {
      "text/plain": [
       "(5169, 2)"
      ]
     },
     "execution_count": 15,
     "metadata": {},
     "output_type": "execute_result"
    }
   ],
   "source": [
    "data.shape"
   ]
  },
  {
   "cell_type": "code",
   "execution_count": 16,
   "id": "ddd508bc",
   "metadata": {},
   "outputs": [
    {
     "data": {
      "text/plain": [
       "ham     4516\n",
       "spam     653\n",
       "Name: v1, dtype: int64"
      ]
     },
     "execution_count": 16,
     "metadata": {},
     "output_type": "execute_result"
    }
   ],
   "source": [
    "data['v1'].value_counts()"
   ]
  },
  {
   "cell_type": "code",
   "execution_count": 17,
   "id": "b3ddfcd7",
   "metadata": {},
   "outputs": [
    {
     "name": "stdout",
     "output_type": "stream",
     "text": [
      "ham     4516\n",
      "spam     653\n",
      "Name: v1, dtype: int64\n"
     ]
    }
   ],
   "source": [
    "for c in data.drop(columns = ['v2'],axis=1):\n",
    "        print(data[c].value_counts())\n"
   ]
  },
  {
   "cell_type": "code",
   "execution_count": 18,
   "id": "7d28c709",
   "metadata": {},
   "outputs": [
    {
     "data": {
      "image/png": "[encoded data removed]",
      "text/plain": [
       "<Figure size 216x216 with 1 Axes>"
      ]
     },
     "metadata": {
      "needs_background": "light"
     },
     "output_type": "display_data"
    }
   ],
   "source": [
    "plt.figure(figsize=(3,3))\n",
    "count_Class=pd.value_counts(data[\"v1\"], sort= True)\n",
    "count_Class.plot(kind= 'bar', color= [\"blue\", \"orange\"])\n",
    "plt.title('Bar chart')\n",
    "plt.show()"
   ]
  },
  {
   "cell_type": "markdown",
   "id": "342cbd7c",
   "metadata": {},
   "source": [
    "- We can see the label is not balanced wo we need balanced it."
   ]
  },
  {
   "cell_type": "code",
   "execution_count": 19,
   "id": "254eda59",
   "metadata": {},
   "outputs": [
    {
     "data": {
      "text/html": [
       "<div>\n",
       "<style scoped>\n",
       "    .dataframe tbody tr th:only-of-type {\n",
       "        vertical-align: middle;\n",
       "    }\n",
       "\n",
       "    .dataframe tbody tr th {\n",
       "        vertical-align: top;\n",
       "    }\n",
       "\n",
       "    .dataframe thead th {\n",
       "        text-align: right;\n",
       "    }\n",
       "</style>\n",
       "<table border=\"1\" class=\"dataframe\">\n",
       "  <thead>\n",
       "    <tr style=\"text-align: right;\">\n",
       "      <th></th>\n",
       "      <th>v1</th>\n",
       "      <th>v2</th>\n",
       "      <th>Stringlength</th>\n",
       "    </tr>\n",
       "  </thead>\n",
       "  <tbody>\n",
       "    <tr>\n",
       "      <th>0</th>\n",
       "      <td>ham</td>\n",
       "      <td>Go until jurong point, crazy.. Available only ...</td>\n",
       "      <td>111</td>\n",
       "    </tr>\n",
       "    <tr>\n",
       "      <th>1</th>\n",
       "      <td>ham</td>\n",
       "      <td>Ok lar... Joking wif u oni...</td>\n",
       "      <td>29</td>\n",
       "    </tr>\n",
       "    <tr>\n",
       "      <th>2</th>\n",
       "      <td>spam</td>\n",
       "      <td>Free entry in 2 a wkly comp to win FA Cup fina...</td>\n",
       "      <td>155</td>\n",
       "    </tr>\n",
       "    <tr>\n",
       "      <th>3</th>\n",
       "      <td>ham</td>\n",
       "      <td>U dun say so early hor... U c already then say...</td>\n",
       "      <td>49</td>\n",
       "    </tr>\n",
       "    <tr>\n",
       "      <th>4</th>\n",
       "      <td>ham</td>\n",
       "      <td>Nah I don't think he goes to usf, he lives aro...</td>\n",
       "      <td>61</td>\n",
       "    </tr>\n",
       "  </tbody>\n",
       "</table>\n",
       "</div>"
      ],
      "text/plain": [
       "     v1                                                 v2  Stringlength\n",
       "0   ham  Go until jurong point, crazy.. Available only ...           111\n",
       "1   ham                      Ok lar... Joking wif u oni...            29\n",
       "2  spam  Free entry in 2 a wkly comp to win FA Cup fina...           155\n",
       "3   ham  U dun say so early hor... U c already then say...            49\n",
       "4   ham  Nah I don't think he goes to usf, he lives aro...            61"
      ]
     },
     "execution_count": 19,
     "metadata": {},
     "output_type": "execute_result"
    }
   ],
   "source": [
    "data['Stringlength'] = data['v2'].str.len()\n",
    "data.head()\n"
   ]
  },
  {
   "cell_type": "code",
   "execution_count": 20,
   "id": "61382361",
   "metadata": {},
   "outputs": [
    {
     "data": {
      "image/png": "[encoded data removed]",
      "text/plain": [
       "<Figure size 360x216 with 1 Axes>"
      ]
     },
     "metadata": {
      "needs_background": "light"
     },
     "output_type": "display_data"
    }
   ],
   "source": [
    "#Distribution of string length\n",
    "plt.figure(figsize=(5,3))\n",
    "sns.distplot(data.Stringlength, bins=20, color = 'blue')\n",
    "plt.show()"
   ]
  },
  {
   "cell_type": "markdown",
   "id": "151ea587",
   "metadata": {},
   "source": [
    "- we can see most of the eemails are lies between 0 to 200 words."
   ]
  },
  {
   "cell_type": "markdown",
   "id": "8de56a69",
   "metadata": {},
   "source": [
    "### # Manual encoding of labels"
   ]
  },
  {
   "cell_type": "code",
   "execution_count": 21,
   "id": "e1736f90",
   "metadata": {},
   "outputs": [
    {
     "data": {
      "text/html": [
       "<div>\n",
       "<style scoped>\n",
       "    .dataframe tbody tr th:only-of-type {\n",
       "        vertical-align: middle;\n",
       "    }\n",
       "\n",
       "    .dataframe tbody tr th {\n",
       "        vertical-align: top;\n",
       "    }\n",
       "\n",
       "    .dataframe thead th {\n",
       "        text-align: right;\n",
       "    }\n",
       "</style>\n",
       "<table border=\"1\" class=\"dataframe\">\n",
       "  <thead>\n",
       "    <tr style=\"text-align: right;\">\n",
       "      <th></th>\n",
       "      <th>v1</th>\n",
       "      <th>v2</th>\n",
       "      <th>Stringlength</th>\n",
       "    </tr>\n",
       "  </thead>\n",
       "  <tbody>\n",
       "    <tr>\n",
       "      <th>0</th>\n",
       "      <td>0</td>\n",
       "      <td>Go until jurong point, crazy.. Available only ...</td>\n",
       "      <td>111</td>\n",
       "    </tr>\n",
       "    <tr>\n",
       "      <th>1</th>\n",
       "      <td>0</td>\n",
       "      <td>Ok lar... Joking wif u oni...</td>\n",
       "      <td>29</td>\n",
       "    </tr>\n",
       "    <tr>\n",
       "      <th>2</th>\n",
       "      <td>1</td>\n",
       "      <td>Free entry in 2 a wkly comp to win FA Cup fina...</td>\n",
       "      <td>155</td>\n",
       "    </tr>\n",
       "    <tr>\n",
       "      <th>3</th>\n",
       "      <td>0</td>\n",
       "      <td>U dun say so early hor... U c already then say...</td>\n",
       "      <td>49</td>\n",
       "    </tr>\n",
       "    <tr>\n",
       "      <th>4</th>\n",
       "      <td>0</td>\n",
       "      <td>Nah I don't think he goes to usf, he lives aro...</td>\n",
       "      <td>61</td>\n",
       "    </tr>\n",
       "  </tbody>\n",
       "</table>\n",
       "</div>"
      ],
      "text/plain": [
       "   v1                                                 v2  Stringlength\n",
       "0   0  Go until jurong point, crazy.. Available only ...           111\n",
       "1   0                      Ok lar... Joking wif u oni...            29\n",
       "2   1  Free entry in 2 a wkly comp to win FA Cup fina...           155\n",
       "3   0  U dun say so early hor... U c already then say...            49\n",
       "4   0  Nah I don't think he goes to usf, he lives aro...            61"
      ]
     },
     "execution_count": 21,
     "metadata": {},
     "output_type": "execute_result"
    }
   ],
   "source": [
    "label_dict = {'ham': 0, 'spam': 1,}\n",
    "data.replace({'v1': label_dict}, inplace = True)\n",
    "data.head()"
   ]
  },
  {
   "cell_type": "code",
   "execution_count": 22,
   "id": "b81a4619",
   "metadata": {},
   "outputs": [],
   "source": [
    "# Splitting the dataset by label\n",
    "data_h = data[data['v1'] == 0] # ham\n",
    "data_s = data[data['v1'] == 1] # spam\n"
   ]
  },
  {
   "cell_type": "markdown",
   "id": "6f57572a",
   "metadata": {},
   "source": [
    "### Class Frequencies"
   ]
  },
  {
   "cell_type": "code",
   "execution_count": 23,
   "id": "6b674c5d",
   "metadata": {},
   "outputs": [
    {
     "data": {
      "image/png": "[encoded data removed]",
      "text/plain": [
       "<Figure size 216x216 with 1 Axes>"
      ]
     },
     "metadata": {},
     "output_type": "display_data"
    }
   ],
   "source": [
    "plt.figure(figsize=(3,3))\n",
    "count_Class.plot(kind = 'pie',  autopct='%1.0f%%')\n",
    "plt.title('Pie chart')\n",
    "plt.ylabel('')\n",
    "plt.show()"
   ]
  },
  {
   "cell_type": "markdown",
   "id": "eaca7ddf",
   "metadata": {},
   "source": [
    "- We can see, the 13.4% of emails is spam but 86.6.\n",
    "- 86.6% emails are non spam(ham) "
   ]
  },
  {
   "cell_type": "markdown",
   "id": "989903c5",
   "metadata": {},
   "source": [
    "### Number of Characters"
   ]
  },
  {
   "cell_type": "code",
   "execution_count": 24,
   "id": "52d91cf2",
   "metadata": {},
   "outputs": [
    {
     "data": {
      "text/plain": [
       "Text(0.5, 0.98, 'Distribution of number of characters in v2')"
      ]
     },
     "execution_count": 24,
     "metadata": {},
     "output_type": "execute_result"
    },
    {
     "data": {
      "image/png": "[encoded data removed]",
      "text/plain": [
       "<Figure size 648x288 with 2 Axes>"
      ]
     },
     "metadata": {
      "needs_background": "light"
     },
     "output_type": "display_data"
    }
   ],
   "source": [
    "data_h_char = data_h['v2'].str.len()\n",
    "data_s_char = data_s['v2'].str.len()\n",
    "\n",
    "fig, ax = plt.subplots(1,2 , figsize = (9, 4), sharey = False)\n",
    "sns.histplot(x = data_h_char, bins = 20, ax = ax[0]).set_title('Class: ham')\n",
    "sns.histplot(x = data_s_char, bins = 20, ax = ax[1]).set_title('Class: spam')\n",
    "\n",
    "fig.suptitle(\"Distribution of number of characters in v2\")"
   ]
  },
  {
   "cell_type": "markdown",
   "id": "409d3512",
   "metadata": {},
   "source": [
    "- We can see, that non spam emails are lies between the 0 to 200 characters mostly.\n",
    "- Spam emails characters mostly lies between the 110 to 160."
   ]
  },
  {
   "cell_type": "markdown",
   "id": "02c9ce73",
   "metadata": {},
   "source": [
    "### Number of Words"
   ]
  },
  {
   "cell_type": "code",
   "execution_count": 25,
   "id": "bfee7790",
   "metadata": {},
   "outputs": [
    {
     "data": {
      "text/plain": [
       "Text(0.5, 0.98, 'Distribution of number of words in v2')"
      ]
     },
     "execution_count": 25,
     "metadata": {},
     "output_type": "execute_result"
    },
    {
     "data": {
      "image/png": "[encoded data removed]",
      "text/plain": [
       "<Figure size 648x288 with 2 Axes>"
      ]
     },
     "metadata": {
      "needs_background": "light"
     },
     "output_type": "display_data"
    }
   ],
   "source": [
    "# Distribution of number of words in description\n",
    "data_h_word = data_h['v2'].str.split().map(lambda x: len(x))\n",
    "data_s_word = data_s['v2'].str.split().map(lambda x: len(x))\n",
    "\n",
    "fig, ax = plt.subplots(1, 2, figsize = (9,4), sharey = False)\n",
    "sns.histplot(x = data_h_word, bins = 20, ax = ax[0]).set_title('Class: ham')\n",
    "sns.histplot(x = data_s_word, bins = 20, ax = ax[1]).set_title('Class: spam')\n",
    "fig.suptitle(\"Distribution of number of words in v2\")"
   ]
  },
  {
   "cell_type": "markdown",
   "id": "09bf67a7",
   "metadata": {},
   "source": [
    "- The non spam words in emails mostly lies between 0 to 30.\n",
    "- But in spam mostly number of words lies in between 20 to 30."
   ]
  },
  {
   "cell_type": "markdown",
   "id": "ad1c11fa",
   "metadata": {},
   "source": [
    "## Data Pre-processing"
   ]
  },
  {
   "cell_type": "code",
   "execution_count": 26,
   "id": "2315b7b8",
   "metadata": {},
   "outputs": [],
   "source": [
    "import re\n",
    "import string"
   ]
  },
  {
   "cell_type": "code",
   "execution_count": 27,
   "id": "a89f9fcb",
   "metadata": {},
   "outputs": [],
   "source": [
    "# Convert all messages to lower case\n",
    "data['v2'] = data['v2'].str.lower()\n",
    "\n",
    "# Replace email addresses with 'email'\n",
    "data['v2'] = data['v2'].str.replace(r'^.+@[^\\.].*\\.[a-z]{2,}$','emailaddress') \n",
    "\n",
    "# Replace URLs with 'webaddress'\n",
    "data['v2'] = data['v2'].str.replace(r'^http\\://[a-zA-Z0-9\\-\\.]+\\.[a-zA-Z]{2,3}(/\\S*)?$','webaddress')\n",
    "\n",
    "# Replace money symbols with 'moneysymb'\n",
    "data['v2'] = data['v2'].str.replace(r'£|\\$', 'dollars') \n",
    "\n",
    "# Replacing 10 digit phone numbers with 'phonenumber'\n",
    "data['v2'] = data['v2'].str.replace(r'^\\(?[\\d]{3}\\)?[\\s-]?[\\d]{3}[\\s-]?[\\d]{4}$','phonenumber')\n",
    "\n",
    "# Replace numbers with 'num'\n",
    "data['v2'] = data['v2'].str.replace(r'\\d+(\\.\\d+)?','num') \n",
    "\n",
    "# removing punctuations\n",
    "data['v2'] = data['v2'].str.replace(r'[^\\w\\d\\s]',' ') \n",
    "\n",
    "# removing underscore characters\n",
    "data['v2'] = data['v2'].str.replace(r'[\\_]',' ') \n",
    "\n",
    "# removing single characters\n",
    "data['v2'] = data['v2'].str.replace(r'\\s+[a-zA-Z]\\s+', ' ') \n",
    "\n",
    "#removing whitespace between terms with a single space\n",
    "data['v2'] = data['v2'].str.replace(r'\\s+', ' ') \n",
    "\n",
    "# removing leading and trailing whitespace\n",
    "data['v2'] = data['v2'].str.replace(r'^\\s+|\\s+?$', ' ') \n"
   ]
  },
  {
   "cell_type": "code",
   "execution_count": 28,
   "id": "5d02b6ed",
   "metadata": {},
   "outputs": [
    {
     "data": {
      "text/html": [
       "<div>\n",
       "<style scoped>\n",
       "    .dataframe tbody tr th:only-of-type {\n",
       "        vertical-align: middle;\n",
       "    }\n",
       "\n",
       "    .dataframe tbody tr th {\n",
       "        vertical-align: top;\n",
       "    }\n",
       "\n",
       "    .dataframe thead th {\n",
       "        text-align: right;\n",
       "    }\n",
       "</style>\n",
       "<table border=\"1\" class=\"dataframe\">\n",
       "  <thead>\n",
       "    <tr style=\"text-align: right;\">\n",
       "      <th></th>\n",
       "      <th>v1</th>\n",
       "      <th>v2</th>\n",
       "      <th>Stringlength</th>\n",
       "    </tr>\n",
       "  </thead>\n",
       "  <tbody>\n",
       "    <tr>\n",
       "      <th>0</th>\n",
       "      <td>0</td>\n",
       "      <td>go until jurong point crazy available only in ...</td>\n",
       "      <td>111</td>\n",
       "    </tr>\n",
       "    <tr>\n",
       "      <th>1</th>\n",
       "      <td>0</td>\n",
       "      <td>ok lar joking wif oni</td>\n",
       "      <td>29</td>\n",
       "    </tr>\n",
       "    <tr>\n",
       "      <th>2</th>\n",
       "      <td>1</td>\n",
       "      <td>free entry in num wkly comp to win fa cup fina...</td>\n",
       "      <td>155</td>\n",
       "    </tr>\n",
       "    <tr>\n",
       "      <th>3</th>\n",
       "      <td>0</td>\n",
       "      <td>u dun say so early hor c already then say</td>\n",
       "      <td>49</td>\n",
       "    </tr>\n",
       "    <tr>\n",
       "      <th>4</th>\n",
       "      <td>0</td>\n",
       "      <td>nah don think he goes to usf he lives around h...</td>\n",
       "      <td>61</td>\n",
       "    </tr>\n",
       "    <tr>\n",
       "      <th>...</th>\n",
       "      <td>...</td>\n",
       "      <td>...</td>\n",
       "      <td>...</td>\n",
       "    </tr>\n",
       "    <tr>\n",
       "      <th>5567</th>\n",
       "      <td>1</td>\n",
       "      <td>this is the numnd time we have tried num conta...</td>\n",
       "      <td>161</td>\n",
       "    </tr>\n",
       "    <tr>\n",
       "      <th>5568</th>\n",
       "      <td>0</td>\n",
       "      <td>will ì going to esplanade fr home</td>\n",
       "      <td>37</td>\n",
       "    </tr>\n",
       "    <tr>\n",
       "      <th>5569</th>\n",
       "      <td>0</td>\n",
       "      <td>pity was in mood for that so any other suggest...</td>\n",
       "      <td>57</td>\n",
       "    </tr>\n",
       "    <tr>\n",
       "      <th>5570</th>\n",
       "      <td>0</td>\n",
       "      <td>the guy did some bitching but acted like d be ...</td>\n",
       "      <td>125</td>\n",
       "    </tr>\n",
       "    <tr>\n",
       "      <th>5571</th>\n",
       "      <td>0</td>\n",
       "      <td>rofl its true to its name</td>\n",
       "      <td>26</td>\n",
       "    </tr>\n",
       "  </tbody>\n",
       "</table>\n",
       "<p>5169 rows × 3 columns</p>\n",
       "</div>"
      ],
      "text/plain": [
       "      v1                                                 v2  Stringlength\n",
       "0      0  go until jurong point crazy available only in ...           111\n",
       "1      0                             ok lar joking wif oni             29\n",
       "2      1  free entry in num wkly comp to win fa cup fina...           155\n",
       "3      0         u dun say so early hor c already then say             49\n",
       "4      0  nah don think he goes to usf he lives around h...            61\n",
       "...   ..                                                ...           ...\n",
       "5567   1  this is the numnd time we have tried num conta...           161\n",
       "5568   0                 will ì going to esplanade fr home             37\n",
       "5569   0  pity was in mood for that so any other suggest...            57\n",
       "5570   0  the guy did some bitching but acted like d be ...           125\n",
       "5571   0                          rofl its true to its name            26\n",
       "\n",
       "[5169 rows x 3 columns]"
      ]
     },
     "execution_count": 28,
     "metadata": {},
     "output_type": "execute_result"
    }
   ],
   "source": [
    "data"
   ]
  },
  {
   "cell_type": "code",
   "execution_count": 29,
   "id": "ecf1c05e",
   "metadata": {},
   "outputs": [
    {
     "name": "stderr",
     "output_type": "stream",
     "text": [
      "[nltk_data] Downloading package omw-1.4 to\n",
      "[nltk_data]     C:\\Users\\Teja\\AppData\\Roaming\\nltk_data...\n",
      "[nltk_data]   Package omw-1.4 is already up-to-date!\n"
     ]
    },
    {
     "data": {
      "text/plain": [
       "True"
      ]
     },
     "execution_count": 29,
     "metadata": {},
     "output_type": "execute_result"
    }
   ],
   "source": [
    "import nltk\n",
    "nltk.download('omw-1.4')"
   ]
  },
  {
   "cell_type": "code",
   "execution_count": 30,
   "id": "f0c537b4",
   "metadata": {},
   "outputs": [
    {
     "name": "stderr",
     "output_type": "stream",
     "text": [
      "[nltk_data] Downloading package wordnet to\n",
      "[nltk_data]     C:\\Users\\Teja\\AppData\\Roaming\\nltk_data...\n",
      "[nltk_data]   Package wordnet is already up-to-date!\n"
     ]
    },
    {
     "data": {
      "text/plain": [
       "True"
      ]
     },
     "execution_count": 30,
     "metadata": {},
     "output_type": "execute_result"
    }
   ],
   "source": [
    "import nltk\n",
    "nltk.download('wordnet')"
   ]
  },
  {
   "cell_type": "code",
   "execution_count": 31,
   "id": "d2c421b5",
   "metadata": {},
   "outputs": [],
   "source": [
    "import nltk\n",
    "from nltk.corpus import stopwords,wordnet\n",
    "from nltk.stem import WordNetLemmatizer\n"
   ]
  },
  {
   "cell_type": "code",
   "execution_count": 32,
   "id": "fa4d40dc",
   "metadata": {},
   "outputs": [],
   "source": [
    "stop_words = set(stopwords.words('english') + ['u','m', 'ü', 'ur', '4', '2', 'im', 'dont', 'doin',\"u're\", 'ure'])\n",
    "data['v2'] = data['v2'].apply(lambda x: ' '.join(term for term in x.split() if term not in stop_words))"
   ]
  },
  {
   "cell_type": "code",
   "execution_count": 33,
   "id": "22cbb7eb",
   "metadata": {},
   "outputs": [],
   "source": [
    "lem=WordNetLemmatizer()\n",
    "data['v2'] = data['v2'].apply(lambda x: ' '.join(lem.lemmatize(t) for t in x.split()))"
   ]
  },
  {
   "cell_type": "code",
   "execution_count": 34,
   "id": "2663f516",
   "metadata": {},
   "outputs": [
    {
     "data": {
      "text/html": [
       "<div>\n",
       "<style scoped>\n",
       "    .dataframe tbody tr th:only-of-type {\n",
       "        vertical-align: middle;\n",
       "    }\n",
       "\n",
       "    .dataframe tbody tr th {\n",
       "        vertical-align: top;\n",
       "    }\n",
       "\n",
       "    .dataframe thead th {\n",
       "        text-align: right;\n",
       "    }\n",
       "</style>\n",
       "<table border=\"1\" class=\"dataframe\">\n",
       "  <thead>\n",
       "    <tr style=\"text-align: right;\">\n",
       "      <th></th>\n",
       "      <th>v1</th>\n",
       "      <th>v2</th>\n",
       "      <th>Stringlength</th>\n",
       "    </tr>\n",
       "  </thead>\n",
       "  <tbody>\n",
       "    <tr>\n",
       "      <th>0</th>\n",
       "      <td>0</td>\n",
       "      <td>go jurong point crazy available bugis great wo...</td>\n",
       "      <td>111</td>\n",
       "    </tr>\n",
       "    <tr>\n",
       "      <th>1</th>\n",
       "      <td>0</td>\n",
       "      <td>ok lar joking wif oni</td>\n",
       "      <td>29</td>\n",
       "    </tr>\n",
       "    <tr>\n",
       "      <th>2</th>\n",
       "      <td>1</td>\n",
       "      <td>free entry num wkly comp win fa cup final tkts...</td>\n",
       "      <td>155</td>\n",
       "    </tr>\n",
       "    <tr>\n",
       "      <th>3</th>\n",
       "      <td>0</td>\n",
       "      <td>dun say early hor c already say</td>\n",
       "      <td>49</td>\n",
       "    </tr>\n",
       "    <tr>\n",
       "      <th>4</th>\n",
       "      <td>0</td>\n",
       "      <td>nah think go usf life around though</td>\n",
       "      <td>61</td>\n",
       "    </tr>\n",
       "    <tr>\n",
       "      <th>...</th>\n",
       "      <td>...</td>\n",
       "      <td>...</td>\n",
       "      <td>...</td>\n",
       "    </tr>\n",
       "    <tr>\n",
       "      <th>5567</th>\n",
       "      <td>1</td>\n",
       "      <td>numnd time tried num contact ådollarsnum pound...</td>\n",
       "      <td>161</td>\n",
       "    </tr>\n",
       "    <tr>\n",
       "      <th>5568</th>\n",
       "      <td>0</td>\n",
       "      <td>ì going esplanade fr home</td>\n",
       "      <td>37</td>\n",
       "    </tr>\n",
       "    <tr>\n",
       "      <th>5569</th>\n",
       "      <td>0</td>\n",
       "      <td>pity mood suggestion</td>\n",
       "      <td>57</td>\n",
       "    </tr>\n",
       "    <tr>\n",
       "      <th>5570</th>\n",
       "      <td>0</td>\n",
       "      <td>guy bitching acted like interested buying some...</td>\n",
       "      <td>125</td>\n",
       "    </tr>\n",
       "    <tr>\n",
       "      <th>5571</th>\n",
       "      <td>0</td>\n",
       "      <td>rofl true name</td>\n",
       "      <td>26</td>\n",
       "    </tr>\n",
       "  </tbody>\n",
       "</table>\n",
       "<p>5169 rows × 3 columns</p>\n",
       "</div>"
      ],
      "text/plain": [
       "      v1                                                 v2  Stringlength\n",
       "0      0  go jurong point crazy available bugis great wo...           111\n",
       "1      0                              ok lar joking wif oni            29\n",
       "2      1  free entry num wkly comp win fa cup final tkts...           155\n",
       "3      0                    dun say early hor c already say            49\n",
       "4      0                nah think go usf life around though            61\n",
       "...   ..                                                ...           ...\n",
       "5567   1  numnd time tried num contact ådollarsnum pound...           161\n",
       "5568   0                          ì going esplanade fr home            37\n",
       "5569   0                               pity mood suggestion            57\n",
       "5570   0  guy bitching acted like interested buying some...           125\n",
       "5571   0                                     rofl true name            26\n",
       "\n",
       "[5169 rows x 3 columns]"
      ]
     },
     "execution_count": 34,
     "metadata": {},
     "output_type": "execute_result"
    }
   ],
   "source": [
    "data"
   ]
  },
  {
   "cell_type": "code",
   "execution_count": 35,
   "id": "40ce6668",
   "metadata": {},
   "outputs": [
    {
     "data": {
      "text/html": [
       "<div>\n",
       "<style scoped>\n",
       "    .dataframe tbody tr th:only-of-type {\n",
       "        vertical-align: middle;\n",
       "    }\n",
       "\n",
       "    .dataframe tbody tr th {\n",
       "        vertical-align: top;\n",
       "    }\n",
       "\n",
       "    .dataframe thead th {\n",
       "        text-align: right;\n",
       "    }\n",
       "</style>\n",
       "<table border=\"1\" class=\"dataframe\">\n",
       "  <thead>\n",
       "    <tr style=\"text-align: right;\">\n",
       "      <th></th>\n",
       "      <th>v1</th>\n",
       "      <th>v2</th>\n",
       "      <th>Stringlength</th>\n",
       "      <th>Cleaned_Stringlength</th>\n",
       "    </tr>\n",
       "  </thead>\n",
       "  <tbody>\n",
       "    <tr>\n",
       "      <th>0</th>\n",
       "      <td>0</td>\n",
       "      <td>go jurong point crazy available bugis great wo...</td>\n",
       "      <td>111</td>\n",
       "      <td>78</td>\n",
       "    </tr>\n",
       "    <tr>\n",
       "      <th>1</th>\n",
       "      <td>0</td>\n",
       "      <td>ok lar joking wif oni</td>\n",
       "      <td>29</td>\n",
       "      <td>21</td>\n",
       "    </tr>\n",
       "    <tr>\n",
       "      <th>2</th>\n",
       "      <td>1</td>\n",
       "      <td>free entry num wkly comp win fa cup final tkts...</td>\n",
       "      <td>155</td>\n",
       "      <td>127</td>\n",
       "    </tr>\n",
       "    <tr>\n",
       "      <th>3</th>\n",
       "      <td>0</td>\n",
       "      <td>dun say early hor c already say</td>\n",
       "      <td>49</td>\n",
       "      <td>31</td>\n",
       "    </tr>\n",
       "    <tr>\n",
       "      <th>4</th>\n",
       "      <td>0</td>\n",
       "      <td>nah think go usf life around though</td>\n",
       "      <td>61</td>\n",
       "      <td>35</td>\n",
       "    </tr>\n",
       "  </tbody>\n",
       "</table>\n",
       "</div>"
      ],
      "text/plain": [
       "   v1                                                 v2  Stringlength  \\\n",
       "0   0  go jurong point crazy available bugis great wo...           111   \n",
       "1   0                              ok lar joking wif oni            29   \n",
       "2   1  free entry num wkly comp win fa cup final tkts...           155   \n",
       "3   0                    dun say early hor c already say            49   \n",
       "4   0                nah think go usf life around though            61   \n",
       "\n",
       "   Cleaned_Stringlength  \n",
       "0                    78  \n",
       "1                    21  \n",
       "2                   127  \n",
       "3                    31  \n",
       "4                    35  "
      ]
     },
     "execution_count": 35,
     "metadata": {},
     "output_type": "execute_result"
    }
   ],
   "source": [
    "data['Cleaned_Stringlength'] = data['v2'].str.len()\n",
    "data.head()\n"
   ]
  },
  {
   "cell_type": "code",
   "execution_count": 36,
   "id": "eb7679eb",
   "metadata": {},
   "outputs": [
    {
     "data": {
      "image/png": "[encoded data removed]",
      "text/plain": [
       "<Figure size 360x216 with 1 Axes>"
      ]
     },
     "metadata": {
      "needs_background": "light"
     },
     "output_type": "display_data"
    }
   ],
   "source": [
    "#Distribution of cleaned string length\n",
    "plt.figure(figsize=(5,3))\n",
    "sns.distplot(data.Cleaned_Stringlength, bins=20, color = 'blue')\n",
    "plt.show()"
   ]
  },
  {
   "cell_type": "markdown",
   "id": "626ace96",
   "metadata": {},
   "source": [
    "- We can see, word density has been reduced."
   ]
  },
  {
   "cell_type": "code",
   "execution_count": 37,
   "id": "f8a84677",
   "metadata": {},
   "outputs": [],
   "source": [
    "import nltk\n",
    "nltk.download('stopwords', quiet=True)\n",
    "nltk.download('punkt', quiet=True)\n",
    "from wordcloud import WordCloud\n",
    "from nltk.corpus import stopwords\n",
    "from nltk.stem import SnowballStemmer\n",
    "from nltk.tokenize import word_tokenize, regexp_tokenize\n",
    "from sklearn.feature_extraction.text import TfidfVectorizer, CountVectorizer\n"
   ]
  },
  {
   "cell_type": "code",
   "execution_count": 38,
   "id": "cde5ccae",
   "metadata": {},
   "outputs": [
    {
     "data": {
      "image/png": "[encoded data removed]",
      "text/plain": [
       "<Figure size 288x288 with 1 Axes>"
      ]
     },
     "metadata": {},
     "output_type": "display_data"
    }
   ],
   "source": [
    "hams = data['v2'][data['v1']==0]\n",
    "spam_cloud = WordCloud(width=600,height=400,background_color='black',max_words=50).generate(' '.join(hams))\n",
    "plt.figure(figsize=(4,4),facecolor='k')\n",
    "plt.imshow(spam_cloud)\n",
    "plt.axis('off')\n",
    "plt.tight_layout(pad=0)\n",
    "plt.show()\n"
   ]
  },
  {
   "cell_type": "markdown",
   "id": "652b25ce",
   "metadata": {},
   "source": [
    "- We can see, so many emails are not spam.\n",
    "- num, ok, love, need and scome these are the word are mostly used."
   ]
  },
  {
   "cell_type": "code",
   "execution_count": 39,
   "id": "d73f281b",
   "metadata": {},
   "outputs": [
    {
     "data": {
      "image/png": "[encoded data removed]",
      "text/plain": [
       "<Figure size 288x288 with 1 Axes>"
      ]
     },
     "metadata": {},
     "output_type": "display_data"
    }
   ],
   "source": [
    "hams = data['v2'][data['v1']==1]\n",
    "spam_cloud = WordCloud(width=600,height=400,background_color='black',max_words=50).generate(' '.join(hams))\n",
    "plt.figure(figsize=(4,4),facecolor='k')\n",
    "plt.imshow(spam_cloud)\n",
    "plt.axis('off')\n",
    "plt.tight_layout(pad=0)\n",
    "plt.show()\n"
   ]
  },
  {
   "cell_type": "markdown",
   "id": "6c6f5107",
   "metadata": {},
   "source": [
    "- We can see, spam emails words that are mostly used as show above.\n",
    "- txt, call, claim, adollarsnum and mobile these are the words are mostly used."
   ]
  },
  {
   "cell_type": "markdown",
   "id": "26c87855",
   "metadata": {},
   "source": [
    "### Dropping columns 'Cleaned_Stringlength' and 'Stringlength' since they do not contribute to model building"
   ]
  },
  {
   "cell_type": "code",
   "execution_count": 40,
   "id": "894ade0a",
   "metadata": {},
   "outputs": [],
   "source": [
    "data.drop(columns=[ 'Cleaned_Stringlength','Stringlength' ],inplace = True)"
   ]
  },
  {
   "cell_type": "code",
   "execution_count": 41,
   "id": "cf2a61be",
   "metadata": {},
   "outputs": [
    {
     "data": {
      "text/html": [
       "<div>\n",
       "<style scoped>\n",
       "    .dataframe tbody tr th:only-of-type {\n",
       "        vertical-align: middle;\n",
       "    }\n",
       "\n",
       "    .dataframe tbody tr th {\n",
       "        vertical-align: top;\n",
       "    }\n",
       "\n",
       "    .dataframe thead th {\n",
       "        text-align: right;\n",
       "    }\n",
       "</style>\n",
       "<table border=\"1\" class=\"dataframe\">\n",
       "  <thead>\n",
       "    <tr style=\"text-align: right;\">\n",
       "      <th></th>\n",
       "      <th>v1</th>\n",
       "      <th>v2</th>\n",
       "    </tr>\n",
       "  </thead>\n",
       "  <tbody>\n",
       "    <tr>\n",
       "      <th>0</th>\n",
       "      <td>0</td>\n",
       "      <td>go jurong point crazy available bugis great wo...</td>\n",
       "    </tr>\n",
       "    <tr>\n",
       "      <th>1</th>\n",
       "      <td>0</td>\n",
       "      <td>ok lar joking wif oni</td>\n",
       "    </tr>\n",
       "    <tr>\n",
       "      <th>2</th>\n",
       "      <td>1</td>\n",
       "      <td>free entry num wkly comp win fa cup final tkts...</td>\n",
       "    </tr>\n",
       "    <tr>\n",
       "      <th>3</th>\n",
       "      <td>0</td>\n",
       "      <td>dun say early hor c already say</td>\n",
       "    </tr>\n",
       "    <tr>\n",
       "      <th>4</th>\n",
       "      <td>0</td>\n",
       "      <td>nah think go usf life around though</td>\n",
       "    </tr>\n",
       "  </tbody>\n",
       "</table>\n",
       "</div>"
      ],
      "text/plain": [
       "   v1                                                 v2\n",
       "0   0  go jurong point crazy available bugis great wo...\n",
       "1   0                              ok lar joking wif oni\n",
       "2   1  free entry num wkly comp win fa cup final tkts...\n",
       "3   0                    dun say early hor c already say\n",
       "4   0                nah think go usf life around though"
      ]
     },
     "execution_count": 41,
     "metadata": {},
     "output_type": "execute_result"
    }
   ],
   "source": [
    "data.head()"
   ]
  },
  {
   "cell_type": "code",
   "execution_count": 42,
   "id": "8cbdba27",
   "metadata": {},
   "outputs": [],
   "source": [
    "tf_vec = TfidfVectorizer(max_features=50000,smooth_idf=False, stop_words='english')"
   ]
  },
  {
   "cell_type": "code",
   "execution_count": 43,
   "id": "27a571a2",
   "metadata": {},
   "outputs": [],
   "source": [
    "features = tf_vec.fit_transform(data['v2'])"
   ]
  },
  {
   "cell_type": "code",
   "execution_count": 44,
   "id": "24a554e9",
   "metadata": {},
   "outputs": [],
   "source": [
    "X = features\n",
    "y=data['v1']"
   ]
  },
  {
   "cell_type": "code",
   "execution_count": 45,
   "id": "44a28888",
   "metadata": {},
   "outputs": [],
   "source": [
    "from sklearn.model_selection import train_test_split\n",
    "from sklearn.metrics import accuracy_score"
   ]
  },
  {
   "cell_type": "markdown",
   "id": "953ca218",
   "metadata": {},
   "source": [
    "### Balancing out classes in Label column using SMOTE technique"
   ]
  },
  {
   "cell_type": "code",
   "execution_count": 46,
   "id": "dfbaf276",
   "metadata": {},
   "outputs": [],
   "source": [
    "from imblearn.over_sampling import SMOTE as sm\n",
    "\n",
    "smt_x,smt_y = sm().fit_resample(X,y)\n"
   ]
  },
  {
   "cell_type": "markdown",
   "id": "d3845acf",
   "metadata": {},
   "source": [
    "### This is a Classification problem since Target column ('v1') has only two Catergory"
   ]
  },
  {
   "cell_type": "code",
   "execution_count": 47,
   "id": "7a42e1c4",
   "metadata": {},
   "outputs": [
    {
     "name": "stdout",
     "output_type": "stream",
     "text": [
      "Best Accuracy is: 0.9966789667896679 on random_state: 10\n"
     ]
    }
   ],
   "source": [
    "from sklearn.ensemble import RandomForestClassifier\n",
    "maxAcc = 0\n",
    "maxRS=0\n",
    "for i in range(0,100):\n",
    "    x_train,x_test,y_train,y_test = train_test_split(smt_x,smt_y,test_size = .30, random_state = i)\n",
    "    modRF =  RandomForestClassifier()\n",
    "    modRF.fit(x_train,y_train)\n",
    "    pred = modRF.predict(x_test)\n",
    "    acc  = accuracy_score(y_test,pred)\n",
    "    if acc>maxAcc:\n",
    "        maxAcc=acc\n",
    "        maxRS=i\n",
    "print(f\"Best Accuracy is: {maxAcc} on random_state: {maxRS}\")\n"
   ]
  },
  {
   "cell_type": "code",
   "execution_count": 48,
   "id": "db14eb1b",
   "metadata": {},
   "outputs": [],
   "source": [
    "x_train,x_test,y_train,y_test = train_test_split(smt_x,smt_y,test_size = 0.3,random_state = 10)"
   ]
  },
  {
   "cell_type": "code",
   "execution_count": 49,
   "id": "66f7dcad",
   "metadata": {},
   "outputs": [],
   "source": [
    "from sklearn.model_selection import train_test_split, cross_val_score\n",
    "from sklearn.metrics import plot_roc_curve\n",
    "from sklearn.metrics import accuracy_score, classification_report, confusion_matrix, roc_curve, roc_auc_score\n",
    "from sklearn.linear_model import LogisticRegression\n",
    "from sklearn.ensemble import RandomForestClassifier\n",
    "from xgboost import XGBClassifier\n",
    "from sklearn.svm import SVC\n",
    "from sklearn.naive_bayes import ComplementNB"
   ]
  },
  {
   "cell_type": "markdown",
   "id": "b5eb413e",
   "metadata": {},
   "source": [
    "### Random Forest Classifier"
   ]
  },
  {
   "cell_type": "code",
   "execution_count": 50,
   "id": "aceb383a",
   "metadata": {},
   "outputs": [],
   "source": [
    "def metric_score(clf, x_train,x_test,y_train,y_test, train=True):\n",
    "    if train:\n",
    "        \n",
    "        y_pred = clf.predict(x_train)\n",
    "\n",
    "        print(\"\\n========================== Train Result=============================\")\n",
    "\n",
    "        print(f\"Accuracy Score: {accuracy_score(y_train, y_pred) * 100:.2f}%\")\n",
    "\n",
    "    \n",
    "    elif train==False:\n",
    "        pred = clf.predict(x_test)\n",
    "        \n",
    "        print(\"\\n==========================Test Result=======================\")\n",
    "        print(f\"Accuracy Score: {accuracy_score(y_test,pred) * 100:.2f}%\")\n",
    "        \n",
    "        print(\"\\n \\n Test Classification Report \\n\", classification_report(y_test, pred, digits=2))\n",
    "        \n",
    "        print('\\n Confusion Matrix: \\n',confusion_matrix(y_test,pred))\n",
    "    "
   ]
  },
  {
   "cell_type": "code",
   "execution_count": 51,
   "id": "07bf3702",
   "metadata": {},
   "outputs": [
    {
     "name": "stdout",
     "output_type": "stream",
     "text": [
      "\n",
      "========================== Train Result=============================\n",
      "Accuracy Score: 99.98%\n",
      "\n",
      "==========================Test Result=======================\n",
      "Accuracy Score: 99.67%\n",
      "\n",
      " \n",
      " Test Classification Report \n",
      "               precision    recall  f1-score   support\n",
      "\n",
      "           0       0.99      1.00      1.00      1371\n",
      "           1       1.00      0.99      1.00      1339\n",
      "\n",
      "    accuracy                           1.00      2710\n",
      "   macro avg       1.00      1.00      1.00      2710\n",
      "weighted avg       1.00      1.00      1.00      2710\n",
      "\n",
      "\n",
      " Confusion Matrix: \n",
      " [[1370    1]\n",
      " [   8 1331]]\n"
     ]
    }
   ],
   "source": [
    "rf = RandomForestClassifier()\n",
    "rf.fit(x_train,y_train)\n",
    "\n",
    "metric_score(rf,x_train,x_test,y_train, y_test, train=True)\n",
    "\n",
    "metric_score(rf,x_train,x_test,y_train, y_test, train=False)\n"
   ]
  },
  {
   "cell_type": "markdown",
   "id": "2d60adfe",
   "metadata": {},
   "source": [
    "### Cross - validation for random forest"
   ]
  },
  {
   "cell_type": "code",
   "execution_count": 52,
   "id": "ffd8a2b3",
   "metadata": {},
   "outputs": [],
   "source": [
    "from sklearn.model_selection import cross_val_score"
   ]
  },
  {
   "cell_type": "code",
   "execution_count": 53,
   "id": "f4812376",
   "metadata": {},
   "outputs": [],
   "source": [
    "pred_rf = rf.predict(x_test)\n",
    "accu = accuracy_score(y_test,pred_rf)"
   ]
  },
  {
   "cell_type": "code",
   "execution_count": 54,
   "id": "57d94c12",
   "metadata": {},
   "outputs": [
    {
     "name": "stdout",
     "output_type": "stream",
     "text": [
      "At cv:- 4\n",
      "Cross validation score is:- 97.7944917739962\n",
      "accuracy_score is:- 99.6678966789668\n",
      "\n",
      "\n",
      "At cv:- 5\n",
      "Cross validation score is:- 97.85256740334904\n",
      "accuracy_score is:- 99.6678966789668\n",
      "\n",
      "\n",
      "At cv:- 6\n",
      "Cross validation score is:- 97.8911731444129\n",
      "accuracy_score is:- 99.6678966789668\n",
      "\n",
      "\n",
      "At cv:- 7\n",
      "Cross validation score is:- 97.96847504527626\n",
      "accuracy_score is:- 99.6678966789668\n",
      "\n",
      "\n",
      "At cv:- 8\n",
      "Cross validation score is:- 97.96853541709534\n",
      "accuracy_score is:- 99.6678966789668\n",
      "\n",
      "\n",
      "At cv:- 9\n",
      "Cross validation score is:- 97.98791428908076\n",
      "accuracy_score is:- 99.6678966789668\n",
      "\n",
      "\n"
     ]
    }
   ],
   "source": [
    "for j in range(4,10):\n",
    "    cross = cross_val_score(rf,X,y,cv=j)\n",
    "    lsc = cross.mean()\n",
    "    print(\"At cv:-\",j)\n",
    "    print('Cross validation score is:-',lsc*100)\n",
    "    print('accuracy_score is:-',accu*100)\n",
    "    print('\\n')\n"
   ]
  },
  {
   "cell_type": "code",
   "execution_count": 54,
   "id": "7e6f6539",
   "metadata": {},
   "outputs": [
    {
     "name": "stdout",
     "output_type": "stream",
     "text": [
      "The cv score is:  0.9792980861485634 \n",
      "The accuracy score is:  0.9966789667896679\n"
     ]
    }
   ],
   "source": [
    "lsscore_selected = cross_val_score(rf,X,y,cv=9).mean()\n",
    "print(\"The cv score is: \",lsscore_selected,\"\\nThe accuracy score is: \",accu)\n"
   ]
  },
  {
   "cell_type": "markdown",
   "id": "f9a0ce06",
   "metadata": {},
   "source": [
    "# Logistic Regression"
   ]
  },
  {
   "cell_type": "code",
   "execution_count": 55,
   "id": "150e5151",
   "metadata": {},
   "outputs": [
    {
     "name": "stdout",
     "output_type": "stream",
     "text": [
      "\n",
      "========================== Train Result=============================\n",
      "Accuracy Score: 98.58%\n",
      "\n",
      "==========================Test Result=======================\n",
      "Accuracy Score: 98.49%\n",
      "\n",
      " \n",
      " Test Classification Report \n",
      "               precision    recall  f1-score   support\n",
      "\n",
      "           0       0.98      0.99      0.99      1371\n",
      "           1       0.99      0.98      0.98      1339\n",
      "\n",
      "    accuracy                           0.98      2710\n",
      "   macro avg       0.98      0.98      0.98      2710\n",
      "weighted avg       0.98      0.98      0.98      2710\n",
      "\n",
      "\n",
      " Confusion Matrix: \n",
      " [[1355   16]\n",
      " [  25 1314]]\n"
     ]
    }
   ],
   "source": [
    "lr = lr=LogisticRegression()\n",
    "lr.fit(x_train,y_train)\n",
    "\n",
    "metric_score(lr,x_train,x_test,y_train, y_test, train=True)\n",
    "\n",
    "metric_score(lr,x_train,x_test,y_train, y_test, train=False)\n"
   ]
  },
  {
   "cell_type": "markdown",
   "id": "d2ffd486",
   "metadata": {},
   "source": [
    "### Cross - validation for logistic Regression"
   ]
  },
  {
   "cell_type": "code",
   "execution_count": 56,
   "id": "518da1f2",
   "metadata": {},
   "outputs": [],
   "source": [
    "pred_lr = lr.predict(x_test)\n",
    "accu = accuracy_score(y_test,pred_lr)\n"
   ]
  },
  {
   "cell_type": "code",
   "execution_count": 57,
   "id": "8cca250e",
   "metadata": {},
   "outputs": [
    {
     "name": "stdout",
     "output_type": "stream",
     "text": [
      "At cv:- 4\n",
      "Cross validation score is:- 96.45960686142817\n",
      "accuracy_score is:- 98.4870848708487\n",
      "\n",
      "\n",
      "At cv:- 5\n",
      "Cross validation score is:- 96.49837752616276\n",
      "accuracy_score is:- 98.4870848708487\n",
      "\n",
      "\n",
      "At cv:- 6\n",
      "Cross validation score is:- 96.61417280397532\n",
      "accuracy_score is:- 98.4870848708487\n",
      "\n",
      "\n",
      "At cv:- 7\n",
      "Cross validation score is:- 96.67224074135193\n",
      "accuracy_score is:- 98.4870848708487\n",
      "\n",
      "\n",
      "At cv:- 8\n",
      "Cross validation score is:- 96.73038458041641\n",
      "accuracy_score is:- 98.4870848708487\n",
      "\n",
      "\n",
      "At cv:- 9\n",
      "Cross validation score is:- 96.69167971182817\n",
      "accuracy_score is:- 98.4870848708487\n",
      "\n",
      "\n"
     ]
    }
   ],
   "source": [
    "for j in range(4,10):\n",
    "    cross = cross_val_score(lr,X,y,cv=j)\n",
    "    lsc = cross.mean()\n",
    "    print(\"At cv:-\",j)\n",
    "    print('Cross validation score is:-',lsc*100)\n",
    "    print('accuracy_score is:-',accu*100)\n",
    "    print('\\n')"
   ]
  },
  {
   "cell_type": "code",
   "execution_count": 58,
   "id": "f45080b5",
   "metadata": {},
   "outputs": [
    {
     "name": "stdout",
     "output_type": "stream",
     "text": [
      "The cv score is:  0.9673038458041641 \n",
      "The accuracy score is:  0.9848708487084871\n"
     ]
    }
   ],
   "source": [
    "lsscore_selected = cross_val_score(lr,X,y,cv=8).mean()\n",
    "print(\"The cv score is: \",lsscore_selected,\"\\nThe accuracy score is: \",accu)\n"
   ]
  },
  {
   "cell_type": "markdown",
   "id": "e4dbf675",
   "metadata": {},
   "source": [
    "### Complement Naive Bayes"
   ]
  },
  {
   "cell_type": "code",
   "execution_count": 59,
   "id": "cdd1a72d",
   "metadata": {},
   "outputs": [
    {
     "name": "stdout",
     "output_type": "stream",
     "text": [
      "\n",
      "========================== Train Result=============================\n",
      "Accuracy Score: 98.69%\n",
      "\n",
      "==========================Test Result=======================\n",
      "Accuracy Score: 98.12%\n",
      "\n",
      " \n",
      " Test Classification Report \n",
      "               precision    recall  f1-score   support\n",
      "\n",
      "           0       1.00      0.97      0.98      1371\n",
      "           1       0.97      1.00      0.98      1339\n",
      "\n",
      "    accuracy                           0.98      2710\n",
      "   macro avg       0.98      0.98      0.98      2710\n",
      "weighted avg       0.98      0.98      0.98      2710\n",
      "\n",
      "\n",
      " Confusion Matrix: \n",
      " [[1325   46]\n",
      " [   5 1334]]\n"
     ]
    }
   ],
   "source": [
    "CNB = ComplementNB()\n",
    "CNB.fit(x_train,y_train)\n",
    "\n",
    "metric_score(CNB,x_train,x_test,y_train, y_test, train=True)\n",
    "\n",
    "metric_score(CNB,x_train,x_test,y_train, y_test, train=False)\n"
   ]
  },
  {
   "cell_type": "markdown",
   "id": "e194dbf6",
   "metadata": {},
   "source": [
    "### Cross - validation for Complement Naive Bayes"
   ]
  },
  {
   "cell_type": "code",
   "execution_count": 60,
   "id": "49c3f17c",
   "metadata": {},
   "outputs": [],
   "source": [
    "pred_cnb = CNB.predict(x_test)\n",
    "accu = accuracy_score(y_test,pred_cnb)\n"
   ]
  },
  {
   "cell_type": "code",
   "execution_count": 61,
   "id": "406920a9",
   "metadata": {},
   "outputs": [
    {
     "name": "stdout",
     "output_type": "stream",
     "text": [
      "At cv:- 4\n",
      "Cross validation score is:- 91.37158526861717\n",
      "accuracy_score is:- 98.11808118081181\n",
      "\n",
      "\n",
      "At cv:- 5\n",
      "Cross validation score is:- 91.23637562001343\n",
      "accuracy_score is:- 98.11808118081181\n",
      "\n",
      "\n",
      "At cv:- 6\n",
      "Cross validation score is:- 91.23635891645625\n",
      "accuracy_score is:- 98.11808118081181\n",
      "\n",
      "\n",
      "At cv:- 7\n",
      "Cross validation score is:- 91.25569653144822\n",
      "accuracy_score is:- 98.11808118081181\n",
      "\n",
      "\n",
      "At cv:- 8\n",
      "Cross validation score is:- 91.21702451419029\n",
      "accuracy_score is:- 98.11808118081181\n",
      "\n",
      "\n",
      "At cv:- 9\n",
      "Cross validation score is:- 91.27519399417596\n",
      "accuracy_score is:- 98.11808118081181\n",
      "\n",
      "\n"
     ]
    }
   ],
   "source": [
    "for j in range(4,10):\n",
    "    cross = cross_val_score(CNB,X,y,cv=j)\n",
    "    lsc = cross.mean()\n",
    "    print(\"At cv:-\",j)\n",
    "    print('Cross validation score is:-',lsc*100)\n",
    "    print('accuracy_score is:-',accu*100)\n",
    "    print('\\n')"
   ]
  },
  {
   "cell_type": "code",
   "execution_count": 62,
   "id": "f926f39c",
   "metadata": {},
   "outputs": [
    {
     "name": "stdout",
     "output_type": "stream",
     "text": [
      "The cv score is:  0.9645960686142817 \n",
      "The accuracy score is:  0.9811808118081181\n"
     ]
    }
   ],
   "source": [
    "lsscore_selected = cross_val_score(lr,X,y,cv=4).mean()\n",
    "print(\"The cv score is: \",lsscore_selected,\"\\nThe accuracy score is: \",accu)\n"
   ]
  },
  {
   "cell_type": "markdown",
   "id": "aa9a917d",
   "metadata": {},
   "source": [
    "### XGBClassifier"
   ]
  },
  {
   "cell_type": "code",
   "execution_count": 63,
   "id": "459475f3",
   "metadata": {},
   "outputs": [
    {
     "name": "stdout",
     "output_type": "stream",
     "text": [
      "\n",
      "========================== Train Result=============================\n",
      "Accuracy Score: 99.60%\n",
      "\n",
      "==========================Test Result=======================\n",
      "Accuracy Score: 99.11%\n",
      "\n",
      " \n",
      " Test Classification Report \n",
      "               precision    recall  f1-score   support\n",
      "\n",
      "           0       0.99      0.99      0.99      1371\n",
      "           1       0.99      0.99      0.99      1339\n",
      "\n",
      "    accuracy                           0.99      2710\n",
      "   macro avg       0.99      0.99      0.99      2710\n",
      "weighted avg       0.99      0.99      0.99      2710\n",
      "\n",
      "\n",
      " Confusion Matrix: \n",
      " [[1359   12]\n",
      " [  12 1327]]\n"
     ]
    }
   ],
   "source": [
    "xgb = XGBClassifier()\n",
    "\n",
    "xgb.fit(x_train,y_train)\n",
    "\n",
    "metric_score(xgb,x_train,x_test,y_train, y_test, train=True)\n",
    "\n",
    "metric_score(xgb,x_train,x_test,y_train, y_test, train=False)\n"
   ]
  },
  {
   "cell_type": "markdown",
   "id": "2dbebe9c",
   "metadata": {},
   "source": [
    "### Cross - Validation for XGBOOST"
   ]
  },
  {
   "cell_type": "code",
   "execution_count": 64,
   "id": "84249977",
   "metadata": {},
   "outputs": [],
   "source": [
    "pred_xgb = xgb.predict(x_test)\n",
    "accu = accuracy_score(y_test,pred_xgb)\n"
   ]
  },
  {
   "cell_type": "code",
   "execution_count": 65,
   "id": "f78f63cb",
   "metadata": {},
   "outputs": [
    {
     "name": "stdout",
     "output_type": "stream",
     "text": [
      "At cv:- 4\n",
      "Cross validation score is:- 97.71706246303626\n",
      "accuracy_score is:- 99.11439114391143\n",
      "\n",
      "\n",
      "At cv:- 5\n",
      "Cross validation score is:- 97.94933537554698\n",
      "accuracy_score is:- 99.11439114391143\n",
      "\n",
      "\n",
      "At cv:- 6\n",
      "Cross validation score is:- 97.79427418072656\n",
      "accuracy_score is:- 99.11439114391143\n",
      "\n",
      "\n",
      "At cv:- 7\n",
      "Cross validation score is:- 97.89099331163426\n",
      "accuracy_score is:- 99.11439114391143\n",
      "\n",
      "\n",
      "At cv:- 8\n",
      "Cross validation score is:- 97.79435690325914\n",
      "accuracy_score is:- 99.11439114391143\n",
      "\n",
      "\n",
      "At cv:- 9\n",
      "Cross validation score is:- 97.81376559107208\n",
      "accuracy_score is:- 99.11439114391143\n",
      "\n",
      "\n"
     ]
    }
   ],
   "source": [
    "for j in range(4,10):\n",
    "    cross = cross_val_score(xgb,X,y,cv=j)\n",
    "    lsc = cross.mean()\n",
    "    print(\"At cv:-\",j)\n",
    "    print('Cross validation score is:-',lsc*100)\n",
    "    print('accuracy_score is:-',accu*100)\n",
    "    print('\\n')\n"
   ]
  },
  {
   "cell_type": "code",
   "execution_count": 66,
   "id": "141867f0",
   "metadata": {},
   "outputs": [
    {
     "name": "stdout",
     "output_type": "stream",
     "text": [
      "The cv score is:  0.9794933537554698 \n",
      "The accuracy score is:  0.9911439114391144\n"
     ]
    }
   ],
   "source": [
    "lsscore_selected = cross_val_score(xgb,X,y,cv=5).mean()\n",
    "print(\"The cv score is: \",lsscore_selected,\"\\nThe accuracy score is: \",accu)\n"
   ]
  },
  {
   "cell_type": "markdown",
   "id": "ef6dc7bd",
   "metadata": {},
   "source": [
    "### SVC"
   ]
  },
  {
   "cell_type": "code",
   "execution_count": 67,
   "id": "7f5dea56",
   "metadata": {},
   "outputs": [],
   "source": [
    "from sklearn.svm import SVC"
   ]
  },
  {
   "cell_type": "code",
   "execution_count": 68,
   "id": "a1bd310f",
   "metadata": {},
   "outputs": [
    {
     "name": "stdout",
     "output_type": "stream",
     "text": [
      "\n",
      "========================== Train Result=============================\n",
      "Accuracy Score: 99.95%\n",
      "\n",
      "==========================Test Result=======================\n",
      "Accuracy Score: 99.70%\n",
      "\n",
      " \n",
      " Test Classification Report \n",
      "               precision    recall  f1-score   support\n",
      "\n",
      "           0       1.00      1.00      1.00      1371\n",
      "           1       1.00      1.00      1.00      1339\n",
      "\n",
      "    accuracy                           1.00      2710\n",
      "   macro avg       1.00      1.00      1.00      2710\n",
      "weighted avg       1.00      1.00      1.00      2710\n",
      "\n",
      "\n",
      " Confusion Matrix: \n",
      " [[1368    3]\n",
      " [   5 1334]]\n"
     ]
    }
   ],
   "source": [
    "svc = SVC()\n",
    "svc.fit(x_train,y_train)\n",
    "\n",
    "metric_score(svc,x_train,x_test,y_train, y_test, train=True)\n",
    "\n",
    "metric_score(svc,x_train,x_test,y_train, y_test, train=False)"
   ]
  },
  {
   "cell_type": "markdown",
   "id": "b2ef042f",
   "metadata": {},
   "source": [
    "### Cross - Validation for SVC"
   ]
  },
  {
   "cell_type": "code",
   "execution_count": 69,
   "id": "f9445d75",
   "metadata": {},
   "outputs": [],
   "source": [
    "pred_svc = svc.predict(x_test)\n",
    "accu = accuracy_score(y_test,pred_svc)"
   ]
  },
  {
   "cell_type": "code",
   "execution_count": 70,
   "id": "be64e955",
   "metadata": {},
   "outputs": [
    {
     "name": "stdout",
     "output_type": "stream",
     "text": [
      "At cv:- 4\n",
      "Cross validation score is:- 97.5043338864426\n",
      "accuracy_score is:- 99.70479704797049\n",
      "\n",
      "\n",
      "At cv:- 5\n",
      "Cross validation score is:- 97.52369111393642\n",
      "accuracy_score is:- 99.70479704797049\n",
      "\n",
      "\n",
      "At cv:- 6\n",
      "Cross validation score is:- 97.5234960337671\n",
      "accuracy_score is:- 99.70479704797049\n",
      "\n",
      "\n",
      "At cv:- 7\n",
      "Cross validation score is:- 97.54282319548501\n",
      "accuracy_score is:- 99.70479704797049\n",
      "\n",
      "\n",
      "At cv:- 8\n",
      "Cross validation score is:- 97.65905752197568\n",
      "accuracy_score is:- 99.70479704797049\n",
      "\n",
      "\n",
      "At cv:- 9\n",
      "Cross validation score is:- 97.63971788786212\n",
      "accuracy_score is:- 99.70479704797049\n",
      "\n",
      "\n"
     ]
    }
   ],
   "source": [
    "for j in range(4,10):\n",
    "    cross = cross_val_score(svc,X,y,cv=j)\n",
    "    lsc = cross.mean()\n",
    "    print(\"At cv:-\",j)\n",
    "    print('Cross validation score is:-',lsc*100)\n",
    "    print('accuracy_score is:-',accu*100)\n",
    "    print('\\n')\n"
   ]
  },
  {
   "cell_type": "code",
   "execution_count": 71,
   "id": "f1eb3e8e",
   "metadata": {},
   "outputs": [
    {
     "name": "stdout",
     "output_type": "stream",
     "text": [
      "The cv score is:  0.9765905752197568 \n",
      "The accuracy score is:  0.9970479704797048\n"
     ]
    }
   ],
   "source": [
    "lsscore_selected = cross_val_score(svc,X,y,cv=8).mean()\n",
    "print(\"The cv score is: \",lsscore_selected,\"\\nThe accuracy score is: \",accu)\n"
   ]
  },
  {
   "cell_type": "markdown",
   "id": "915762fc",
   "metadata": {},
   "source": [
    "## ROC AUC curves"
   ]
  },
  {
   "cell_type": "code",
   "execution_count": 73,
   "id": "a1680094",
   "metadata": {},
   "outputs": [
    {
     "name": "stdout",
     "output_type": "stream",
     "text": [
      "Collecting scikit-plot\n",
      "  Downloading scikit_plot-0.3.7-py3-none-any.whl (33 kB)\n",
      "Requirement already satisfied: scikit-learn>=0.18 in d:\\new folder (2)\\lib\\site-packages (from scikit-plot) (1.1.2)\n",
      "Requirement already satisfied: joblib>=0.10 in d:\\new folder (2)\\lib\\site-packages (from scikit-plot) (1.1.0)\n",
      "Requirement already satisfied: scipy>=0.9 in d:\\new folder (2)\\lib\\site-packages (from scikit-plot) (1.7.3)\n",
      "Requirement already satisfied: matplotlib>=1.4.0 in d:\\new folder (2)\\lib\\site-packages (from scikit-plot) (3.5.1)\n",
      "Requirement already satisfied: kiwisolver>=1.0.1 in d:\\new folder (2)\\lib\\site-packages (from matplotlib>=1.4.0->scikit-plot) (1.3.2)\n",
      "Requirement already satisfied: pillow>=6.2.0 in d:\\new folder (2)\\lib\\site-packages (from matplotlib>=1.4.0->scikit-plot) (9.0.1)\n",
      "Requirement already satisfied: fonttools>=4.22.0 in d:\\new folder (2)\\lib\\site-packages (from matplotlib>=1.4.0->scikit-plot) (4.25.0)\n",
      "Requirement already satisfied: packaging>=20.0 in d:\\new folder (2)\\lib\\site-packages (from matplotlib>=1.4.0->scikit-plot) (21.3)\n",
      "Requirement already satisfied: numpy>=1.17 in d:\\new folder (2)\\lib\\site-packages (from matplotlib>=1.4.0->scikit-plot) (1.21.5)\n",
      "Requirement already satisfied: cycler>=0.10 in d:\\new folder (2)\\lib\\site-packages (from matplotlib>=1.4.0->scikit-plot) (0.11.0)\n",
      "Requirement already satisfied: python-dateutil>=2.7 in d:\\new folder (2)\\lib\\site-packages (from matplotlib>=1.4.0->scikit-plot) (2.8.2)\n",
      "Requirement already satisfied: pyparsing>=2.2.1 in d:\\new folder (2)\\lib\\site-packages (from matplotlib>=1.4.0->scikit-plot) (3.0.4)\n",
      "Requirement already satisfied: six>=1.5 in d:\\new folder (2)\\lib\\site-packages (from python-dateutil>=2.7->matplotlib>=1.4.0->scikit-plot) (1.16.0)\n",
      "Requirement already satisfied: threadpoolctl>=2.0.0 in d:\\new folder (2)\\lib\\site-packages (from scikit-learn>=0.18->scikit-plot) (2.2.0)\n",
      "Installing collected packages: scikit-plot\n",
      "Successfully installed scikit-plot-0.3.7\n"
     ]
    }
   ],
   "source": [
    "!pip install scikit-plot"
   ]
  },
  {
   "cell_type": "code",
   "execution_count": 74,
   "id": "59b910d4",
   "metadata": {},
   "outputs": [],
   "source": [
    "import scikitplot as sktplt"
   ]
  },
  {
   "cell_type": "code",
   "execution_count": 75,
   "id": "b9609444",
   "metadata": {},
   "outputs": [],
   "source": [
    "lr_prob = lr.predict_proba(x_test)\n",
    "rf_prob = rf.predict_proba(x_test)\n",
    "#svc_prob = svc.predict_proba(x_test)\n",
    "xgb_prob = xgb.predict_proba(x_test)\n",
    "cnb_prob = CNB.predict_proba(x_test)"
   ]
  },
  {
   "cell_type": "code",
   "execution_count": 76,
   "id": "203dc558",
   "metadata": {},
   "outputs": [
    {
     "data": {
      "text/plain": [
       "<Figure size 72x72 with 0 Axes>"
      ]
     },
     "metadata": {},
     "output_type": "display_data"
    },
    {
     "data": {
      "image/png": "[encoded data removed]",
      "text/plain": [
       "<Figure size 432x288 with 1 Axes>"
      ]
     },
     "metadata": {
      "needs_background": "light"
     },
     "output_type": "display_data"
    }
   ],
   "source": [
    "#Logistic Regression ROC Curves\n",
    "plt.figure(figsize=(1,1))\n",
    "sktplt.metrics.plot_roc(y_test,lr_prob) \n",
    "plt.show()"
   ]
  },
  {
   "cell_type": "code",
   "execution_count": 77,
   "id": "c7979369",
   "metadata": {},
   "outputs": [
    {
     "data": {
      "text/plain": [
       "<AxesSubplot:title={'center':'ROC Curves'}, xlabel='False Positive Rate', ylabel='True Positive Rate'>"
      ]
     },
     "execution_count": 77,
     "metadata": {},
     "output_type": "execute_result"
    },
    {
     "data": {
      "image/png": "[encoded data removed]",
      "text/plain": [
       "<Figure size 432x288 with 1 Axes>"
      ]
     },
     "metadata": {
      "needs_background": "light"
     },
     "output_type": "display_data"
    }
   ],
   "source": [
    "sktplt.metrics.plot_roc(y_test,rf_prob) # Random Forest Classifier ROC Curves"
   ]
  },
  {
   "cell_type": "code",
   "execution_count": 78,
   "id": "90d7e2d8",
   "metadata": {},
   "outputs": [
    {
     "data": {
      "text/plain": [
       "<AxesSubplot:title={'center':'ROC Curves'}, xlabel='False Positive Rate', ylabel='True Positive Rate'>"
      ]
     },
     "execution_count": 78,
     "metadata": {},
     "output_type": "execute_result"
    },
    {
     "data": {
      "image/png": "[encoded data removed]",
      "text/plain": [
       "<Figure size 432x288 with 1 Axes>"
      ]
     },
     "metadata": {
      "needs_background": "light"
     },
     "output_type": "display_data"
    }
   ],
   "source": [
    "sktplt.metrics.plot_roc(y_test,xgb_prob) #Xgb Classifier ROC Curve"
   ]
  },
  {
   "cell_type": "code",
   "execution_count": 79,
   "id": "a7328556",
   "metadata": {},
   "outputs": [
    {
     "data": {
      "text/plain": [
       "<AxesSubplot:title={'center':'ROC Curves'}, xlabel='False Positive Rate', ylabel='True Positive Rate'>"
      ]
     },
     "execution_count": 79,
     "metadata": {},
     "output_type": "execute_result"
    },
    {
     "data": {
      "image/png": "[encoded data removed]",
      "text/plain": [
       "<Figure size 432x288 with 1 Axes>"
      ]
     },
     "metadata": {
      "needs_background": "light"
     },
     "output_type": "display_data"
    }
   ],
   "source": [
    "sktplt.metrics.plot_roc(y_test,cnb_prob) #Complement Naive Bayes ROC Curves"
   ]
  },
  {
   "cell_type": "markdown",
   "id": "4c7da719",
   "metadata": {},
   "source": [
    "### Based on comparing the above graphs,Precision, Recall, Accuracy Scores with Cross validation scores, it is determined that  Complement Naive Bayes Classifier is the best model for the dataset."
   ]
  },
  {
   "cell_type": "markdown",
   "id": "7c796a75",
   "metadata": {},
   "source": [
    "## Hyper Parameter Tuning"
   ]
  },
  {
   "cell_type": "code",
   "execution_count": 80,
   "id": "0477f69d",
   "metadata": {},
   "outputs": [],
   "source": [
    "from sklearn.model_selection import GridSearchCV"
   ]
  },
  {
   "cell_type": "code",
   "execution_count": 81,
   "id": "bf64f36a",
   "metadata": {},
   "outputs": [
    {
     "name": "stdout",
     "output_type": "stream",
     "text": [
      "Fitting 5 folds for each of 20 candidates, totalling 100 fits\n"
     ]
    },
    {
     "data": {
      "text/html": [
       "<style>#sk-container-id-1 {color: black;background-color: white;}#sk-container-id-1 pre{padding: 0;}#sk-container-id-1 div.sk-toggleable {background-color: white;}#sk-container-id-1 label.sk-toggleable__label {cursor: pointer;display: block;width: 100%;margin-bottom: 0;padding: 0.3em;box-sizing: border-box;text-align: center;}#sk-container-id-1 label.sk-toggleable__label-arrow:before {content: \"▸\";float: left;margin-right: 0.25em;color: #696969;}#sk-container-id-1 label.sk-toggleable__label-arrow:hover:before {color: black;}#sk-container-id-1 div.sk-estimator:hover label.sk-toggleable__label-arrow:before {color: black;}#sk-container-id-1 div.sk-toggleable__content {max-height: 0;max-width: 0;overflow: hidden;text-align: left;background-color: #f0f8ff;}#sk-container-id-1 div.sk-toggleable__content pre {margin: 0.2em;color: black;border-radius: 0.25em;background-color: #f0f8ff;}#sk-container-id-1 input.sk-toggleable__control:checked~div.sk-toggleable__content {max-height: 200px;max-width: 100%;overflow: auto;}#sk-container-id-1 input.sk-toggleable__control:checked~label.sk-toggleable__label-arrow:before {content: \"▾\";}#sk-container-id-1 div.sk-estimator input.sk-toggleable__control:checked~label.sk-toggleable__label {background-color: #d4ebff;}#sk-container-id-1 div.sk-label input.sk-toggleable__control:checked~label.sk-toggleable__label {background-color: #d4ebff;}#sk-container-id-1 input.sk-hidden--visually {border: 0;clip: rect(1px 1px 1px 1px);clip: rect(1px, 1px, 1px, 1px);height: 1px;margin: -1px;overflow: hidden;padding: 0;position: absolute;width: 1px;}#sk-container-id-1 div.sk-estimator {font-family: monospace;background-color: #f0f8ff;border: 1px dotted black;border-radius: 0.25em;box-sizing: border-box;margin-bottom: 0.5em;}#sk-container-id-1 div.sk-estimator:hover {background-color: #d4ebff;}#sk-container-id-1 div.sk-parallel-item::after {content: \"\";width: 100%;border-bottom: 1px solid gray;flex-grow: 1;}#sk-container-id-1 div.sk-label:hover label.sk-toggleable__label {background-color: #d4ebff;}#sk-container-id-1 div.sk-serial::before {content: \"\";position: absolute;border-left: 1px solid gray;box-sizing: border-box;top: 0;bottom: 0;left: 50%;z-index: 0;}#sk-container-id-1 div.sk-serial {display: flex;flex-direction: column;align-items: center;background-color: white;padding-right: 0.2em;padding-left: 0.2em;position: relative;}#sk-container-id-1 div.sk-item {position: relative;z-index: 1;}#sk-container-id-1 div.sk-parallel {display: flex;align-items: stretch;justify-content: center;background-color: white;position: relative;}#sk-container-id-1 div.sk-item::before, #sk-container-id-1 div.sk-parallel-item::before {content: \"\";position: absolute;border-left: 1px solid gray;box-sizing: border-box;top: 0;bottom: 0;left: 50%;z-index: -1;}#sk-container-id-1 div.sk-parallel-item {display: flex;flex-direction: column;z-index: 1;position: relative;background-color: white;}#sk-container-id-1 div.sk-parallel-item:first-child::after {align-self: flex-end;width: 50%;}#sk-container-id-1 div.sk-parallel-item:last-child::after {align-self: flex-start;width: 50%;}#sk-container-id-1 div.sk-parallel-item:only-child::after {width: 0;}#sk-container-id-1 div.sk-dashed-wrapped {border: 1px dashed gray;margin: 0 0.4em 0.5em 0.4em;box-sizing: border-box;padding-bottom: 0.4em;background-color: white;}#sk-container-id-1 div.sk-label label {font-family: monospace;font-weight: bold;display: inline-block;line-height: 1.2em;}#sk-container-id-1 div.sk-label-container {text-align: center;}#sk-container-id-1 div.sk-container {/* jupyter's `normalize.less` sets `[hidden] { display: none; }` but bootstrap.min.css set `[hidden] { display: none !important; }` so we also need the `!important` here to be able to override the default hidden behavior on the sphinx rendered scikit-learn.org. See: https://github.com/scikit-learn/scikit-learn/issues/21755 */display: inline-block !important;position: relative;}#sk-container-id-1 div.sk-text-repr-fallback {display: none;}</style><div id=\"sk-container-id-1\" class=\"sk-top-container\"><div class=\"sk-text-repr-fallback\"><pre>GridSearchCV(cv=5, estimator=ComplementNB(), n_jobs=-1,\n",
       "             param_grid={&#x27;alpha&#x27;: [0.01, 0.1, 0.5, 1.0, 10.0],\n",
       "                         &#x27;fit_prior&#x27;: [True, False], &#x27;norm&#x27;: [True, False]},\n",
       "             verbose=5)</pre><b>In a Jupyter environment, please rerun this cell to show the HTML representation or trust the notebook. <br />On GitHub, the HTML representation is unable to render, please try loading this page with nbviewer.org.</b></div><div class=\"sk-container\" hidden><div class=\"sk-item sk-dashed-wrapped\"><div class=\"sk-label-container\"><div class=\"sk-label sk-toggleable\"><input class=\"sk-toggleable__control sk-hidden--visually\" id=\"sk-estimator-id-1\" type=\"checkbox\" ><label for=\"sk-estimator-id-1\" class=\"sk-toggleable__label sk-toggleable__label-arrow\">GridSearchCV</label><div class=\"sk-toggleable__content\"><pre>GridSearchCV(cv=5, estimator=ComplementNB(), n_jobs=-1,\n",
       "             param_grid={&#x27;alpha&#x27;: [0.01, 0.1, 0.5, 1.0, 10.0],\n",
       "                         &#x27;fit_prior&#x27;: [True, False], &#x27;norm&#x27;: [True, False]},\n",
       "             verbose=5)</pre></div></div></div><div class=\"sk-parallel\"><div class=\"sk-parallel-item\"><div class=\"sk-item\"><div class=\"sk-label-container\"><div class=\"sk-label sk-toggleable\"><input class=\"sk-toggleable__control sk-hidden--visually\" id=\"sk-estimator-id-2\" type=\"checkbox\" ><label for=\"sk-estimator-id-2\" class=\"sk-toggleable__label sk-toggleable__label-arrow\">estimator: ComplementNB</label><div class=\"sk-toggleable__content\"><pre>ComplementNB()</pre></div></div></div><div class=\"sk-serial\"><div class=\"sk-item\"><div class=\"sk-estimator sk-toggleable\"><input class=\"sk-toggleable__control sk-hidden--visually\" id=\"sk-estimator-id-3\" type=\"checkbox\" ><label for=\"sk-estimator-id-3\" class=\"sk-toggleable__label sk-toggleable__label-arrow\">ComplementNB</label><div class=\"sk-toggleable__content\"><pre>ComplementNB()</pre></div></div></div></div></div></div></div></div></div></div>"
      ],
      "text/plain": [
       "GridSearchCV(cv=5, estimator=ComplementNB(), n_jobs=-1,\n",
       "             param_grid={'alpha': [0.01, 0.1, 0.5, 1.0, 10.0],\n",
       "                         'fit_prior': [True, False], 'norm': [True, False]},\n",
       "             verbose=5)"
      ]
     },
     "execution_count": 81,
     "metadata": {},
     "output_type": "execute_result"
    }
   ],
   "source": [
    "params = {'alpha': [0.01, 0.1, 0.5, 1.0, 10.0, ],\n",
    "          'fit_prior': [True, False],\n",
    "          'norm': [True, False],\n",
    "         # 'class_prior': [None, [0.1,]* len(n_classes), ]\n",
    "         }\n",
    "\n",
    "complement_nb_grid = GridSearchCV(ComplementNB(), param_grid=params, n_jobs=-1, cv=5, verbose=5)\n",
    "complement_nb_grid.fit(x_train,y_train)\n"
   ]
  },
  {
   "cell_type": "code",
   "execution_count": 82,
   "id": "efaa16c9",
   "metadata": {},
   "outputs": [
    {
     "data": {
      "text/plain": [
       "0.9852891879721819"
      ]
     },
     "execution_count": 82,
     "metadata": {},
     "output_type": "execute_result"
    }
   ],
   "source": [
    "complement_nb_grid.best_score_"
   ]
  },
  {
   "cell_type": "code",
   "execution_count": 83,
   "id": "8e23dd62",
   "metadata": {},
   "outputs": [
    {
     "data": {
      "text/plain": [
       "{'alpha': 0.01, 'fit_prior': True, 'norm': False}"
      ]
     },
     "execution_count": 83,
     "metadata": {},
     "output_type": "execute_result"
    }
   ],
   "source": [
    "complement_nb_grid.best_params_"
   ]
  },
  {
   "cell_type": "code",
   "execution_count": 84,
   "id": "211aee5e",
   "metadata": {},
   "outputs": [
    {
     "name": "stdout",
     "output_type": "stream",
     "text": [
      "\n",
      "========================== Train Result=============================\n",
      "Accuracy Score: 99.35%\n",
      "\n",
      "==========================Test Result=======================\n",
      "Accuracy Score: 98.63%\n",
      "\n",
      " \n",
      " Test Classification Report \n",
      "               precision    recall  f1-score   support\n",
      "\n",
      "           0       1.00      0.97      0.99      1371\n",
      "           1       0.97      1.00      0.99      1339\n",
      "\n",
      "    accuracy                           0.99      2710\n",
      "   macro avg       0.99      0.99      0.99      2710\n",
      "weighted avg       0.99      0.99      0.99      2710\n",
      "\n",
      "\n",
      " Confusion Matrix: \n",
      " [[1336   35]\n",
      " [   2 1337]]\n"
     ]
    }
   ],
   "source": [
    "cnb = ComplementNB(alpha = 0.01, fit_prior = True, norm = False)\n",
    "cnb.fit(x_train,y_train)\n",
    "\n",
    "metric_score(cnb,x_train,x_test,y_train, y_test, train=True)\n",
    "\n",
    "metric_score(cnb,x_train,x_test,y_train, y_test, train=False)\n"
   ]
  },
  {
   "cell_type": "markdown",
   "id": "c841e088",
   "metadata": {},
   "source": [
    "### Saving The Model"
   ]
  },
  {
   "cell_type": "code",
   "execution_count": 85,
   "id": "bf2edbe8",
   "metadata": {},
   "outputs": [
    {
     "data": {
      "text/plain": [
       "['spam_email_classifier.pkl']"
      ]
     },
     "execution_count": 85,
     "metadata": {},
     "output_type": "execute_result"
    }
   ],
   "source": [
    "import joblib\n",
    "joblib.dump(cnb,\"spam_email_classifier.pkl\")"
   ]
  },
  {
   "cell_type": "markdown",
   "id": "c5e5394e",
   "metadata": {},
   "source": [
    "### Loading The Model"
   ]
  },
  {
   "cell_type": "code",
   "execution_count": 86,
   "id": "98163db7",
   "metadata": {},
   "outputs": [],
   "source": [
    "mod=joblib.load(\"spam_email_classifier.pkl\")"
   ]
  },
  {
   "cell_type": "code",
   "execution_count": 87,
   "id": "4745e8ca",
   "metadata": {},
   "outputs": [
    {
     "data": {
      "text/plain": [
       "array([1, 0, 0, ..., 0, 1, 0], dtype=int64)"
      ]
     },
     "execution_count": 87,
     "metadata": {},
     "output_type": "execute_result"
    }
   ],
   "source": [
    "mod.predict(x_test)"
   ]
  },
  {
   "cell_type": "code",
   "execution_count": 88,
   "id": "dd29b1fa",
   "metadata": {},
   "outputs": [
    {
     "data": {
      "text/html": [
       "<div>\n",
       "<style scoped>\n",
       "    .dataframe tbody tr th:only-of-type {\n",
       "        vertical-align: middle;\n",
       "    }\n",
       "\n",
       "    .dataframe tbody tr th {\n",
       "        vertical-align: top;\n",
       "    }\n",
       "\n",
       "    .dataframe thead th {\n",
       "        text-align: right;\n",
       "    }\n",
       "</style>\n",
       "<table border=\"1\" class=\"dataframe\">\n",
       "  <thead>\n",
       "    <tr style=\"text-align: right;\">\n",
       "      <th></th>\n",
       "      <th>Predictions</th>\n",
       "      <th>Actual Values</th>\n",
       "    </tr>\n",
       "  </thead>\n",
       "  <tbody>\n",
       "    <tr>\n",
       "      <th>0</th>\n",
       "      <td>1</td>\n",
       "      <td>1</td>\n",
       "    </tr>\n",
       "    <tr>\n",
       "      <th>1</th>\n",
       "      <td>0</td>\n",
       "      <td>1</td>\n",
       "    </tr>\n",
       "    <tr>\n",
       "      <th>2</th>\n",
       "      <td>0</td>\n",
       "      <td>1</td>\n",
       "    </tr>\n",
       "    <tr>\n",
       "      <th>3</th>\n",
       "      <td>0</td>\n",
       "      <td>1</td>\n",
       "    </tr>\n",
       "    <tr>\n",
       "      <th>4</th>\n",
       "      <td>1</td>\n",
       "      <td>1</td>\n",
       "    </tr>\n",
       "  </tbody>\n",
       "</table>\n",
       "</div>"
      ],
      "text/plain": [
       "   Predictions  Actual Values\n",
       "0            1              1\n",
       "1            0              1\n",
       "2            0              1\n",
       "3            0              1\n",
       "4            1              1"
      ]
     },
     "execution_count": 88,
     "metadata": {},
     "output_type": "execute_result"
    }
   ],
   "source": [
    "Prediction_accuracy = pd.DataFrame({'Predictions': mod.predict(x_test), 'Actual Values': y[2895]})\n",
    "Prediction_accuracy.head()"
   ]
  },
  {
   "cell_type": "markdown",
   "id": "caf38550",
   "metadata": {},
   "source": [
    "### Conclusions\n",
    "- Spam emails have become a major concern for the internet community as it poses a threat to integrity and productivity of the users. Filtering of email is very much necessary for email communication. The accurate detection of spam emails is a big issue and many filtering methods have been proposed by variousresearc\n",
    "- Not only does spam filtering help keep garbage out of email inboxes, it helps with the quality of life of business emails because they run smoothly and are only used for their desired purpose.\n",
    "- Since email is commonly used as a way to exploit users and their data, spam filtering has grown in importance and relevance. Organizations must utilize a spam filter to reduce the risk of users clicking on something they shouldn't, in turn keeping their internal data shielded from a cyber attack.\n",
    "- So that we need to do spam filtering so user more userfriendly. From above model building we got the Complement Naive Bayes Classifier is a best model deciding whether the emails has spam or not."
   ]
  },
  {
   "cell_type": "markdown",
   "id": "cc8a6a4f",
   "metadata": {},
   "source": [
    "# Spam Classification By Using LSTM"
   ]
  },
  {
   "cell_type": "code",
   "execution_count": 90,
   "id": "f5aa49d0",
   "metadata": {},
   "outputs": [
    {
     "name": "stdout",
     "output_type": "stream",
     "text": [
      "Collecting keras\n",
      "  Downloading keras-2.11.0-py2.py3-none-any.whl (1.7 MB)\n",
      "Installing collected packages: keras\n",
      "Successfully installed keras-2.11.0\n"
     ]
    }
   ],
   "source": [
    "!pip install keras"
   ]
  },
  {
   "cell_type": "code",
   "execution_count": 93,
   "id": "558014a9",
   "metadata": {},
   "outputs": [
    {
     "name": "stdout",
     "output_type": "stream",
     "text": [
      "Collecting tensorflow\n",
      "  Downloading tensorflow-2.11.0-cp39-cp39-win_amd64.whl (1.9 kB)\n",
      "Collecting tensorflow-intel==2.11.0\n",
      "  Downloading tensorflow_intel-2.11.0-cp39-cp39-win_amd64.whl (266.3 MB)\n",
      "Collecting termcolor>=1.1.0\n",
      "  Downloading termcolor-2.1.1-py3-none-any.whl (6.2 kB)\n",
      "Collecting tensorflow-io-gcs-filesystem>=0.23.1\n",
      "  Downloading tensorflow_io_gcs_filesystem-0.29.0-cp39-cp39-win_amd64.whl (1.5 MB)\n",
      "Collecting gast<=0.4.0,>=0.2.1\n",
      "  Downloading gast-0.4.0-py3-none-any.whl (9.8 kB)\n",
      "Collecting tensorboard<2.12,>=2.11\n",
      "  Downloading tensorboard-2.11.0-py3-none-any.whl (6.0 MB)\n",
      "Requirement already satisfied: grpcio<2.0,>=1.24.3 in d:\\new folder (2)\\lib\\site-packages (from tensorflow-intel==2.11.0->tensorflow) (1.42.0)\n",
      "Collecting tensorflow-estimator<2.12,>=2.11.0\n",
      "  Downloading tensorflow_estimator-2.11.0-py2.py3-none-any.whl (439 kB)\n",
      "Requirement already satisfied: typing-extensions>=3.6.6 in d:\\new folder (2)\\lib\\site-packages (from tensorflow-intel==2.11.0->tensorflow) (4.1.1)\n",
      "Requirement already satisfied: protobuf<3.20,>=3.9.2 in d:\\new folder (2)\\lib\\site-packages (from tensorflow-intel==2.11.0->tensorflow) (3.19.1)\n",
      "Collecting flatbuffers>=2.0\n",
      "  Downloading flatbuffers-22.12.6-py2.py3-none-any.whl (26 kB)\n",
      "Collecting libclang>=13.0.0\n",
      "  Downloading libclang-14.0.6-py2.py3-none-win_amd64.whl (14.2 MB)\n",
      "Requirement already satisfied: packaging in d:\\new folder (2)\\lib\\site-packages (from tensorflow-intel==2.11.0->tensorflow) (21.3)\n",
      "Requirement already satisfied: h5py>=2.9.0 in d:\\new folder (2)\\lib\\site-packages (from tensorflow-intel==2.11.0->tensorflow) (3.6.0)\n",
      "Collecting absl-py>=1.0.0\n",
      "  Downloading absl_py-1.3.0-py3-none-any.whl (124 kB)\n",
      "Requirement already satisfied: setuptools in d:\\new folder (2)\\lib\\site-packages (from tensorflow-intel==2.11.0->tensorflow) (61.2.0)\n",
      "Requirement already satisfied: wrapt>=1.11.0 in d:\\new folder (2)\\lib\\site-packages (from tensorflow-intel==2.11.0->tensorflow) (1.12.1)\n",
      "Requirement already satisfied: keras<2.12,>=2.11.0 in d:\\new folder (2)\\lib\\site-packages (from tensorflow-intel==2.11.0->tensorflow) (2.11.0)\n",
      "Requirement already satisfied: six>=1.12.0 in d:\\new folder (2)\\lib\\site-packages (from tensorflow-intel==2.11.0->tensorflow) (1.16.0)\n",
      "Collecting google-pasta>=0.1.1\n",
      "  Downloading google_pasta-0.2.0-py3-none-any.whl (57 kB)\n",
      "Collecting astunparse>=1.6.0\n",
      "  Downloading astunparse-1.6.3-py2.py3-none-any.whl (12 kB)\n",
      "Requirement already satisfied: numpy>=1.20 in d:\\new folder (2)\\lib\\site-packages (from tensorflow-intel==2.11.0->tensorflow) (1.21.5)\n",
      "Collecting opt-einsum>=2.3.2\n",
      "  Downloading opt_einsum-3.3.0-py3-none-any.whl (65 kB)\n",
      "Requirement already satisfied: wheel<1.0,>=0.23.0 in d:\\new folder (2)\\lib\\site-packages (from astunparse>=1.6.0->tensorflow-intel==2.11.0->tensorflow) (0.37.1)\n",
      "Requirement already satisfied: requests<3,>=2.21.0 in d:\\new folder (2)\\lib\\site-packages (from tensorboard<2.12,>=2.11->tensorflow-intel==2.11.0->tensorflow) (2.27.1)\n",
      "Collecting tensorboard-data-server<0.7.0,>=0.6.0\n",
      "  Downloading tensorboard_data_server-0.6.1-py3-none-any.whl (2.4 kB)\n",
      "Collecting google-auth-oauthlib<0.5,>=0.4.1\n",
      "  Downloading google_auth_oauthlib-0.4.6-py2.py3-none-any.whl (18 kB)\n",
      "Requirement already satisfied: markdown>=2.6.8 in d:\\new folder (2)\\lib\\site-packages (from tensorboard<2.12,>=2.11->tensorflow-intel==2.11.0->tensorflow) (3.3.4)\n",
      "Requirement already satisfied: werkzeug>=1.0.1 in d:\\new folder (2)\\lib\\site-packages (from tensorboard<2.12,>=2.11->tensorflow-intel==2.11.0->tensorflow) (2.0.3)\n",
      "Requirement already satisfied: google-auth<3,>=1.6.3 in d:\\new folder (2)\\lib\\site-packages (from tensorboard<2.12,>=2.11->tensorflow-intel==2.11.0->tensorflow) (1.33.0)\n",
      "Collecting tensorboard-plugin-wit>=1.6.0\n",
      "  Downloading tensorboard_plugin_wit-1.8.1-py3-none-any.whl (781 kB)\n",
      "Requirement already satisfied: pyasn1-modules>=0.2.1 in d:\\new folder (2)\\lib\\site-packages (from google-auth<3,>=1.6.3->tensorboard<2.12,>=2.11->tensorflow-intel==2.11.0->tensorflow) (0.2.8)\n",
      "Requirement already satisfied: cachetools<5.0,>=2.0.0 in d:\\new folder (2)\\lib\\site-packages (from google-auth<3,>=1.6.3->tensorboard<2.12,>=2.11->tensorflow-intel==2.11.0->tensorflow) (4.2.2)\n",
      "Requirement already satisfied: rsa<5,>=3.1.4 in d:\\new folder (2)\\lib\\site-packages (from google-auth<3,>=1.6.3->tensorboard<2.12,>=2.11->tensorflow-intel==2.11.0->tensorflow) (4.7.2)\n",
      "Collecting requests-oauthlib>=0.7.0\n",
      "  Downloading requests_oauthlib-1.3.1-py2.py3-none-any.whl (23 kB)\n",
      "Requirement already satisfied: pyasn1<0.5.0,>=0.4.6 in d:\\new folder (2)\\lib\\site-packages (from pyasn1-modules>=0.2.1->google-auth<3,>=1.6.3->tensorboard<2.12,>=2.11->tensorflow-intel==2.11.0->tensorflow) (0.4.8)\n",
      "Requirement already satisfied: idna<4,>=2.5 in d:\\new folder (2)\\lib\\site-packages (from requests<3,>=2.21.0->tensorboard<2.12,>=2.11->tensorflow-intel==2.11.0->tensorflow) (3.3)\n",
      "Requirement already satisfied: urllib3<1.27,>=1.21.1 in d:\\new folder (2)\\lib\\site-packages (from requests<3,>=2.21.0->tensorboard<2.12,>=2.11->tensorflow-intel==2.11.0->tensorflow) (1.26.9)\n",
      "Requirement already satisfied: certifi>=2017.4.17 in d:\\new folder (2)\\lib\\site-packages (from requests<3,>=2.21.0->tensorboard<2.12,>=2.11->tensorflow-intel==2.11.0->tensorflow) (2021.10.8)\n",
      "Requirement already satisfied: charset-normalizer~=2.0.0 in d:\\new folder (2)\\lib\\site-packages (from requests<3,>=2.21.0->tensorboard<2.12,>=2.11->tensorflow-intel==2.11.0->tensorflow) (2.0.4)\n",
      "Collecting oauthlib>=3.0.0\n",
      "  Downloading oauthlib-3.2.2-py3-none-any.whl (151 kB)\n",
      "Requirement already satisfied: pyparsing!=3.0.5,>=2.0.2 in d:\\new folder (2)\\lib\\site-packages (from packaging->tensorflow-intel==2.11.0->tensorflow) (3.0.4)\n",
      "Installing collected packages: oauthlib, requests-oauthlib, tensorboard-plugin-wit, tensorboard-data-server, google-auth-oauthlib, absl-py, termcolor, tensorflow-io-gcs-filesystem, tensorflow-estimator, tensorboard, opt-einsum, libclang, google-pasta, gast, flatbuffers, astunparse, tensorflow-intel, tensorflow\n",
      "Successfully installed absl-py-1.3.0 astunparse-1.6.3 flatbuffers-22.12.6 gast-0.4.0 google-auth-oauthlib-0.4.6 google-pasta-0.2.0 libclang-14.0.6 oauthlib-3.2.2 opt-einsum-3.3.0 requests-oauthlib-1.3.1 tensorboard-2.11.0 tensorboard-data-server-0.6.1 tensorboard-plugin-wit-1.8.1 tensorflow-2.11.0 tensorflow-estimator-2.11.0 tensorflow-intel-2.11.0 tensorflow-io-gcs-filesystem-0.29.0 termcolor-2.1.1\n"
     ]
    }
   ],
   "source": [
    "!pip install tensorflow"
   ]
  },
  {
   "cell_type": "code",
   "execution_count": 94,
   "id": "a417be5b",
   "metadata": {},
   "outputs": [],
   "source": [
    "# Importing reqiured Libraries\n",
    "\n",
    "import nltk\n",
    "import pandas as pd\n",
    "from nltk.corpus import stopwords\n",
    "from textblob import Word\n",
    "from sklearn.preprocessing import LabelEncoder\n",
    "from collections import Counter\n",
    "import wordcloud\n",
    "from sklearn.metrics import classification_report,confusion_matrix,accuracy_score\n",
    "from keras.models import Sequential\n",
    "from keras.preprocessing.text import Tokenizer\n",
    "from keras.layers import Dense, Embedding, LSTM, SpatialDropout1D\n",
    "from sklearn.model_selection import train_test_split\n",
    "import matplotlib.pyplot as plt\n",
    "import numpy as np"
   ]
  },
  {
   "cell_type": "code",
   "execution_count": 95,
   "id": "39eb4ef0",
   "metadata": {},
   "outputs": [],
   "source": [
    "import warnings\n",
    "warnings.filterwarnings('ignore')\n",
    "import tensorflow as tf"
   ]
  },
  {
   "cell_type": "code",
   "execution_count": 97,
   "id": "13da403d",
   "metadata": {},
   "outputs": [
    {
     "data": {
      "text/html": [
       "<div>\n",
       "<style scoped>\n",
       "    .dataframe tbody tr th:only-of-type {\n",
       "        vertical-align: middle;\n",
       "    }\n",
       "\n",
       "    .dataframe tbody tr th {\n",
       "        vertical-align: top;\n",
       "    }\n",
       "\n",
       "    .dataframe thead th {\n",
       "        text-align: right;\n",
       "    }\n",
       "</style>\n",
       "<table border=\"1\" class=\"dataframe\">\n",
       "  <thead>\n",
       "    <tr style=\"text-align: right;\">\n",
       "      <th></th>\n",
       "      <th>v1</th>\n",
       "      <th>v2</th>\n",
       "      <th>Unnamed: 2</th>\n",
       "      <th>Unnamed: 3</th>\n",
       "      <th>Unnamed: 4</th>\n",
       "    </tr>\n",
       "  </thead>\n",
       "  <tbody>\n",
       "    <tr>\n",
       "      <th>0</th>\n",
       "      <td>ham</td>\n",
       "      <td>Go until jurong point, crazy.. Available only ...</td>\n",
       "      <td>NaN</td>\n",
       "      <td>NaN</td>\n",
       "      <td>NaN</td>\n",
       "    </tr>\n",
       "    <tr>\n",
       "      <th>1</th>\n",
       "      <td>ham</td>\n",
       "      <td>Ok lar... Joking wif u oni...</td>\n",
       "      <td>NaN</td>\n",
       "      <td>NaN</td>\n",
       "      <td>NaN</td>\n",
       "    </tr>\n",
       "    <tr>\n",
       "      <th>2</th>\n",
       "      <td>spam</td>\n",
       "      <td>Free entry in 2 a wkly comp to win FA Cup fina...</td>\n",
       "      <td>NaN</td>\n",
       "      <td>NaN</td>\n",
       "      <td>NaN</td>\n",
       "    </tr>\n",
       "    <tr>\n",
       "      <th>3</th>\n",
       "      <td>ham</td>\n",
       "      <td>U dun say so early hor... U c already then say...</td>\n",
       "      <td>NaN</td>\n",
       "      <td>NaN</td>\n",
       "      <td>NaN</td>\n",
       "    </tr>\n",
       "    <tr>\n",
       "      <th>4</th>\n",
       "      <td>ham</td>\n",
       "      <td>Nah I don't think he goes to usf, he lives aro...</td>\n",
       "      <td>NaN</td>\n",
       "      <td>NaN</td>\n",
       "      <td>NaN</td>\n",
       "    </tr>\n",
       "  </tbody>\n",
       "</table>\n",
       "</div>"
      ],
      "text/plain": [
       "     v1                                                 v2 Unnamed: 2  \\\n",
       "0   ham  Go until jurong point, crazy.. Available only ...        NaN   \n",
       "1   ham                      Ok lar... Joking wif u oni...        NaN   \n",
       "2  spam  Free entry in 2 a wkly comp to win FA Cup fina...        NaN   \n",
       "3   ham  U dun say so early hor... U c already then say...        NaN   \n",
       "4   ham  Nah I don't think he goes to usf, he lives aro...        NaN   \n",
       "\n",
       "  Unnamed: 3 Unnamed: 4  \n",
       "0        NaN        NaN  \n",
       "1        NaN        NaN  \n",
       "2        NaN        NaN  \n",
       "3        NaN        NaN  \n",
       "4        NaN        NaN  "
      ]
     },
     "execution_count": 97,
     "metadata": {},
     "output_type": "execute_result"
    }
   ],
   "source": [
    "data = pd.read_csv(r\"C:\\Users\\Teja\\Downloads\\Spam-Project\\spam.csv\",encoding=\"ISO-8859-1\" )\n",
    "data.head()"
   ]
  },
  {
   "cell_type": "code",
   "execution_count": 98,
   "id": "f40812bf",
   "metadata": {},
   "outputs": [
    {
     "data": {
      "text/plain": [
       "v2    0\n",
       "v1    0\n",
       "dtype: int64"
      ]
     },
     "execution_count": 98,
     "metadata": {},
     "output_type": "execute_result"
    }
   ],
   "source": [
    "# Check if there are any null values\n",
    "data_v1 = data[['v2','v1']]\n",
    "data_v1.isnull().sum()"
   ]
  },
  {
   "cell_type": "code",
   "execution_count": 99,
   "id": "36bf0af6",
   "metadata": {},
   "outputs": [],
   "source": [
    "import re\n",
    "import string"
   ]
  },
  {
   "cell_type": "code",
   "execution_count": 100,
   "id": "42d40441",
   "metadata": {},
   "outputs": [],
   "source": [
    "# Convert all messages to lower case\n",
    "data['v2'] = data['v2'].str.lower()\n",
    "\n",
    "# Replace email addresses with 'email'\n",
    "data['v2'] = data['v2'].str.replace(r'^.+@[^\\.].*\\.[a-z]{2,}$','emailaddress') \n",
    "\n",
    "# Replace URLs with 'webaddress'\n",
    "data['v2'] = data['v2'].str.replace(r'^http\\://[a-zA-Z0-9\\-\\.]+\\.[a-zA-Z]{2,3}(/\\S*)?$','webaddress')\n",
    "\n",
    "# Replace money symbols with 'moneysymb'\n",
    "data['v2'] = data['v2'].str.replace(r'£|\\$', 'dollars') \n",
    "\n",
    "# Replacing 10 digit phone numbers with 'phonenumber'\n",
    "data['v2'] = data['v2'].str.replace(r'^\\(?[\\d]{3}\\)?[\\s-]?[\\d]{3}[\\s-]?[\\d]{4}$','phonenumber')\n",
    "\n",
    "# Replace numbers with 'num'\n",
    "data['v2'] = data['v2'].str.replace(r'\\d+(\\.\\d+)?','num') \n",
    "\n",
    "# removing punctuations\n",
    "data['v2'] = data['v2'].str.replace(r'[^\\w\\d\\s]',' ') \n",
    "\n",
    "# removing underscore characters\n",
    "data['v2'] = data['v2'].str.replace(r'[\\_]',' ') \n",
    "\n",
    "# removing single characters\n",
    "data['v2'] = data['v2'].str.replace(r'\\s+[a-zA-Z]\\s+', ' ') \n",
    "\n",
    "#removing whitespace between terms with a single space\n",
    "data['v2'] = data['v2'].str.replace(r'\\s+', ' ') \n",
    "\n",
    "# removing leading and trailing whitespace\n",
    "data['v2'] = data['v2'].str.replace(r'^\\s+|\\s+?$', ' ') \n"
   ]
  },
  {
   "cell_type": "code",
   "execution_count": 101,
   "id": "63c55729",
   "metadata": {},
   "outputs": [],
   "source": [
    "def cleaning(df, stop_words):\n",
    "    # Converting to lowercase\n",
    "    df['v2'] = df['v2'].apply(lambda x:\n",
    "                        ' '.join(x.lower() for x in x.split()))\n",
    "    \n",
    "    # Replacing the digit/numbers\n",
    "    \n",
    "    df['v2'] = df['v2'].str.replace('d', '')\n",
    "    \n",
    "    # Removing stop words\n",
    "    \n",
    "    df['v2'] = df['v2'].apply(lambda x:\n",
    "                        ' '.join(x for x in x.split() if x not in stop_words))\n",
    "    \n",
    "    # Lemmatization\n",
    "    \n",
    "    df['v2'] = df['v2'].apply(lambda x:\n",
    "                        ' '.join([Word(x).lemmatize() for x in x.split()]))\n",
    "    \n",
    "    return df\n",
    "\n",
    "\n",
    "stop_words = stopwords.words('english')\n",
    "\n",
    "data_v1 = cleaning(data_v1, stop_words)    \n",
    "    "
   ]
  },
  {
   "cell_type": "code",
   "execution_count": 102,
   "id": "6c8d5ab7",
   "metadata": {},
   "outputs": [
    {
     "data": {
      "text/html": [
       "<div>\n",
       "<style scoped>\n",
       "    .dataframe tbody tr th:only-of-type {\n",
       "        vertical-align: middle;\n",
       "    }\n",
       "\n",
       "    .dataframe tbody tr th {\n",
       "        vertical-align: top;\n",
       "    }\n",
       "\n",
       "    .dataframe thead th {\n",
       "        text-align: right;\n",
       "    }\n",
       "</style>\n",
       "<table border=\"1\" class=\"dataframe\">\n",
       "  <thead>\n",
       "    <tr style=\"text-align: right;\">\n",
       "      <th></th>\n",
       "      <th>v2</th>\n",
       "      <th>v1</th>\n",
       "    </tr>\n",
       "  </thead>\n",
       "  <tbody>\n",
       "    <tr>\n",
       "      <th>0</th>\n",
       "      <td>go jurong point, crazy.. available bugis n gre...</td>\n",
       "      <td>ham</td>\n",
       "    </tr>\n",
       "    <tr>\n",
       "      <th>1</th>\n",
       "      <td>ok lar... joking wif u oni...</td>\n",
       "      <td>ham</td>\n",
       "    </tr>\n",
       "    <tr>\n",
       "      <th>2</th>\n",
       "      <td>free entry 2 wkly comp win fa cup final tkts 2...</td>\n",
       "      <td>spam</td>\n",
       "    </tr>\n",
       "    <tr>\n",
       "      <th>3</th>\n",
       "      <td>u un say early hor... u c alreay say...</td>\n",
       "      <td>ham</td>\n",
       "    </tr>\n",
       "    <tr>\n",
       "      <th>4</th>\n",
       "      <td>nah on't think go usf, life aroun though</td>\n",
       "      <td>ham</td>\n",
       "    </tr>\n",
       "  </tbody>\n",
       "</table>\n",
       "</div>"
      ],
      "text/plain": [
       "                                                  v2    v1\n",
       "0  go jurong point, crazy.. available bugis n gre...   ham\n",
       "1                      ok lar... joking wif u oni...   ham\n",
       "2  free entry 2 wkly comp win fa cup final tkts 2...  spam\n",
       "3            u un say early hor... u c alreay say...   ham\n",
       "4           nah on't think go usf, life aroun though   ham"
      ]
     },
     "execution_count": 102,
     "metadata": {},
     "output_type": "execute_result"
    }
   ],
   "source": [
    "data_v1.head()"
   ]
  },
  {
   "cell_type": "code",
   "execution_count": 103,
   "id": "d7593b60",
   "metadata": {},
   "outputs": [
    {
     "data": {
      "text/plain": [
       "<function matplotlib.pyplot.show(close=None, block=None)>"
      ]
     },
     "execution_count": 103,
     "metadata": {},
     "output_type": "execute_result"
    },
    {
     "data": {
      "image/png": "[encoded data removed]",
      "text/plain": [
       "<Figure size 432x288 with 1 Axes>"
      ]
     },
     "metadata": {
      "needs_background": "light"
     },
     "output_type": "display_data"
    }
   ],
   "source": [
    "common_words=''\n",
    "for i in data_v1.v2:\n",
    "    i = str(i)\n",
    "    tokens = i.split()\n",
    "    common_words += \" \".join(tokens)+\" \"\n",
    "wordcloud = wordcloud.WordCloud().generate(common_words)\n",
    "plt.imshow(wordcloud, interpolation='bilinear')\n",
    "plt.axis('off')\n",
    "plt.show"
   ]
  },
  {
   "cell_type": "code",
   "execution_count": 104,
   "id": "14987ee0",
   "metadata": {},
   "outputs": [],
   "source": [
    "# Encoded the target column\n",
    "lb = LabelEncoder()\n",
    "data_v1['v1'] = lb.fit_transform(data_v1['v1'])"
   ]
  },
  {
   "cell_type": "code",
   "execution_count": 105,
   "id": "87acd869",
   "metadata": {},
   "outputs": [
    {
     "data": {
      "text/html": [
       "<div>\n",
       "<style scoped>\n",
       "    .dataframe tbody tr th:only-of-type {\n",
       "        vertical-align: middle;\n",
       "    }\n",
       "\n",
       "    .dataframe tbody tr th {\n",
       "        vertical-align: top;\n",
       "    }\n",
       "\n",
       "    .dataframe thead th {\n",
       "        text-align: right;\n",
       "    }\n",
       "</style>\n",
       "<table border=\"1\" class=\"dataframe\">\n",
       "  <thead>\n",
       "    <tr style=\"text-align: right;\">\n",
       "      <th></th>\n",
       "      <th>v2</th>\n",
       "      <th>v1</th>\n",
       "    </tr>\n",
       "  </thead>\n",
       "  <tbody>\n",
       "    <tr>\n",
       "      <th>0</th>\n",
       "      <td>go jurong point, crazy.. available bugis n gre...</td>\n",
       "      <td>0</td>\n",
       "    </tr>\n",
       "    <tr>\n",
       "      <th>1</th>\n",
       "      <td>ok lar... joking wif u oni...</td>\n",
       "      <td>0</td>\n",
       "    </tr>\n",
       "    <tr>\n",
       "      <th>2</th>\n",
       "      <td>free entry 2 wkly comp win fa cup final tkts 2...</td>\n",
       "      <td>1</td>\n",
       "    </tr>\n",
       "    <tr>\n",
       "      <th>3</th>\n",
       "      <td>u un say early hor... u c alreay say...</td>\n",
       "      <td>0</td>\n",
       "    </tr>\n",
       "    <tr>\n",
       "      <th>4</th>\n",
       "      <td>nah on't think go usf, life aroun though</td>\n",
       "      <td>0</td>\n",
       "    </tr>\n",
       "  </tbody>\n",
       "</table>\n",
       "</div>"
      ],
      "text/plain": [
       "                                                  v2  v1\n",
       "0  go jurong point, crazy.. available bugis n gre...   0\n",
       "1                      ok lar... joking wif u oni...   0\n",
       "2  free entry 2 wkly comp win fa cup final tkts 2...   1\n",
       "3            u un say early hor... u c alreay say...   0\n",
       "4           nah on't think go usf, life aroun though   0"
      ]
     },
     "execution_count": 105,
     "metadata": {},
     "output_type": "execute_result"
    }
   ],
   "source": [
    "data_v1.head()"
   ]
  },
  {
   "cell_type": "code",
   "execution_count": 106,
   "id": "199d270d",
   "metadata": {},
   "outputs": [],
   "source": [
    "tokenizer = Tokenizer(num_words=500, split=' ')\n",
    "tokenizer.fit_on_texts(data_v1['v2'].values)\n",
    "X = tokenizer.texts_to_sequences(data['v2'].values)\n",
    "#X = pad_sequences(X)"
   ]
  },
  {
   "cell_type": "code",
   "execution_count": 107,
   "id": "650b3002",
   "metadata": {},
   "outputs": [],
   "source": [
    "X = tf.keras.preprocessing.sequence.pad_sequences(X)"
   ]
  },
  {
   "cell_type": "code",
   "execution_count": 108,
   "id": "e58d6c1f",
   "metadata": {},
   "outputs": [
    {
     "name": "stdout",
     "output_type": "stream",
     "text": [
      "Model: \"sequential\"\n",
      "_________________________________________________________________\n",
      " Layer (type)                Output Shape              Param #   \n",
      "=================================================================\n",
      " embedding (Embedding)       (None, 72, 120)           60000     \n",
      "                                                                 \n",
      " spatial_dropout1d (SpatialD  (None, 72, 120)          0         \n",
      " ropout1D)                                                       \n",
      "                                                                 \n",
      " lstm (LSTM)                 (None, 176)               209088    \n",
      "                                                                 \n",
      " dense (Dense)               (None, 2)                 354       \n",
      "                                                                 \n",
      "=================================================================\n",
      "Total params: 269,442\n",
      "Trainable params: 269,442\n",
      "Non-trainable params: 0\n",
      "_________________________________________________________________\n",
      "None\n"
     ]
    }
   ],
   "source": [
    "model = Sequential()\n",
    "model.add(Embedding(500, 120, input_length = X.shape[1]))\n",
    "model.add(SpatialDropout1D(0.4))\n",
    "model.add(LSTM(176, dropout=0.2, recurrent_dropout=0.2))\n",
    "model.add(Dense(2, activation='softmax'))\n",
    "model.compile(loss='categorical_crossentropy', optimizer='adam', metrics=['accuracy'])\n",
    "print(model.summary())"
   ]
  },
  {
   "cell_type": "code",
   "execution_count": 109,
   "id": "d964a106",
   "metadata": {},
   "outputs": [],
   "source": [
    "# Splitting the data into training and testing\n",
    "\n",
    "y = pd.get_dummies(data_v1['v1'])\n",
    "X_train, X_test, y_train, y_test = train_test_split(X,y, test_size = 0.3, random_state = 42)"
   ]
  },
  {
   "cell_type": "code",
   "execution_count": 110,
   "id": "b46742b1",
   "metadata": {},
   "outputs": [],
   "source": [
    "# Converting to array\n",
    "X_train = np.array(X_train)\n",
    "X_test = np.array(X_test)\n",
    "y_train = np.array(y_train)\n",
    "y_test = np.array(y_test)"
   ]
  },
  {
   "cell_type": "code",
   "execution_count": 111,
   "id": "4a4bcbd1",
   "metadata": {},
   "outputs": [
    {
     "name": "stdout",
     "output_type": "stream",
     "text": [
      "Epoch 1/10\n",
      "122/122 [==============================] - 34s 244ms/step - loss: 0.2065 - accuracy: 0.9315 - val_loss: 0.0888 - val_accuracy: 0.9737\n",
      "Epoch 2/10\n",
      "122/122 [==============================] - 29s 237ms/step - loss: 0.0634 - accuracy: 0.9826 - val_loss: 0.0782 - val_accuracy: 0.9791\n",
      "Epoch 3/10\n",
      "122/122 [==============================] - 31s 254ms/step - loss: 0.0506 - accuracy: 0.9877 - val_loss: 0.0877 - val_accuracy: 0.9791\n",
      "Epoch 4/10\n",
      "122/122 [==============================] - 31s 255ms/step - loss: 0.0475 - accuracy: 0.9872 - val_loss: 0.0825 - val_accuracy: 0.9809\n",
      "Epoch 5/10\n",
      "122/122 [==============================] - 30s 248ms/step - loss: 0.0369 - accuracy: 0.9900 - val_loss: 0.0817 - val_accuracy: 0.9791\n",
      "Epoch 6/10\n",
      "122/122 [==============================] - 30s 247ms/step - loss: 0.0330 - accuracy: 0.9908 - val_loss: 0.0861 - val_accuracy: 0.9797\n",
      "Epoch 7/10\n",
      "122/122 [==============================] - 30s 247ms/step - loss: 0.0302 - accuracy: 0.9903 - val_loss: 0.0877 - val_accuracy: 0.9803\n",
      "Epoch 8/10\n",
      "122/122 [==============================] - 30s 247ms/step - loss: 0.0301 - accuracy: 0.9915 - val_loss: 0.0959 - val_accuracy: 0.9779\n",
      "Epoch 9/10\n",
      "122/122 [==============================] - 31s 251ms/step - loss: 0.0342 - accuracy: 0.9923 - val_loss: 0.1095 - val_accuracy: 0.9719\n",
      "Epoch 10/10\n",
      "122/122 [==============================] - 31s 251ms/step - loss: 0.0450 - accuracy: 0.9864 - val_loss: 0.0822 - val_accuracy: 0.9785\n"
     ]
    },
    {
     "data": {
      "text/plain": [
       "<keras.callbacks.History at 0x19eaf34c640>"
      ]
     },
     "execution_count": 111,
     "metadata": {},
     "output_type": "execute_result"
    }
   ],
   "source": [
    "model.fit(X_train, y_train, batch_size=32, epochs=10, verbose=1, validation_data=(X_test, y_test))"
   ]
  },
  {
   "cell_type": "code",
   "execution_count": 112,
   "id": "b442ddfd",
   "metadata": {},
   "outputs": [
    {
     "data": {
      "text/plain": [
       "<matplotlib.legend.Legend at 0x19ebe5f5520>"
      ]
     },
     "execution_count": 112,
     "metadata": {},
     "output_type": "execute_result"
    },
    {
     "data": {
      "image/png": "[encoded data removed]",
      "text/plain": [
       "<Figure size 360x216 with 1 Axes>"
      ]
     },
     "metadata": {
      "needs_background": "light"
     },
     "output_type": "display_data"
    }
   ],
   "source": [
    "plt.figure(figsize=(5,3))\n",
    "plt.plot(model.history.history['loss'], label='Train Loss')\n",
    "plt.plot(model.history.history['val_loss'], label='Validation Loss')\n",
    "plt.legend()"
   ]
  },
  {
   "cell_type": "markdown",
   "id": "583bcb78",
   "metadata": {},
   "source": [
    "- We can see the loss differeance between train ans validation loss. Validation loss is quite high than train loss."
   ]
  },
  {
   "cell_type": "code",
   "execution_count": 113,
   "id": "b2e9509c",
   "metadata": {},
   "outputs": [
    {
     "data": {
      "text/plain": [
       "<matplotlib.legend.Legend at 0x19ebe662820>"
      ]
     },
     "execution_count": 113,
     "metadata": {},
     "output_type": "execute_result"
    },
    {
     "data": {
      "image/png": "[encoded data removed]",
      "text/plain": [
       "<Figure size 360x216 with 1 Axes>"
      ]
     },
     "metadata": {
      "needs_background": "light"
     },
     "output_type": "display_data"
    }
   ],
   "source": [
    "plt.figure(figsize=(5,3))\n",
    "plt.plot(model.history.history['accuracy'], label='Train acc')\n",
    "plt.plot(model.history.history['val_accuracy'], label='Validation acc')\n",
    "plt.legend()"
   ]
  },
  {
   "cell_type": "markdown",
   "id": "d2958e02",
   "metadata": {},
   "source": [
    "- We can see, training accuracy higher than validation accuracy."
   ]
  },
  {
   "cell_type": "code",
   "execution_count": 114,
   "id": "54fbe115",
   "metadata": {},
   "outputs": [],
   "source": [
    "model.save('spam_classifier_LSTM_model.h5')"
   ]
  },
  {
   "cell_type": "code",
   "execution_count": null,
   "id": "08e13a2e",
   "metadata": {},
   "outputs": [],
   "source": []
  }
 ],
 "metadata": {
  "kernelspec": {
   "display_name": "Python 3 (ipykernel)",
   "language": "python",
   "name": "python3"
  },
  "language_info": {
   "codemirror_mode": {
    "name": "ipython",
    "version": 3
   },
   "file_extension": ".py",
   "mimetype": "text/x-python",
   "name": "python",
   "nbconvert_exporter": "python",
   "pygments_lexer": "ipython3",
   "version": "3.9.12"
  }
 },
 "nbformat": 4,
 "nbformat_minor": 5
}
